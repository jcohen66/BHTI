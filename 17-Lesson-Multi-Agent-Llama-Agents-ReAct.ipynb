{
 "cells": [
  {
   "cell_type": "markdown",
   "metadata": {},
   "source": [
    "# Module 8: 17 - Multi-Agents with Llama-Agents as Microservices\n",
    "----------------------------------------------------------------\n",
    "In this lesson, we will explore the use of llama-agents to create and manage multi-agent systems where each agent functions as a microservice. Llama-agents is an async-first framework designed for building, iterating, and productionizing multi-agent systems, which includes multi-agent communication, distributed tool execution, human-in-the-loop processes, and more.\n",
    "\n",
    "In a llama-agents system, each agent is viewed as a service that continuously processes incoming tasks. Agents interact by pulling and publishing messages from a message queue, enabling seamless communication and coordination.\n",
    "\n",
    "At the top of the llama-agents system is the control plane. The control plane tracks ongoing tasks, manages the services in the network, and uses an orchestrator to decide which service should handle the next step of a task. This structured approach ensures efficient task management and execution.\n",
    "\n",
    "## Objectives\n",
    "* Understand the structure and capabilities of llama-agents for creating multi-agent systems.\n",
    "* Implement and configure agents as microservices using llama-agents.\n",
    "* Define tools with hardcoded output for testing and experimentation.\n",
    "* Observe and analyze the collaboration between agents to solve problems or specific challenges.\n",
    "\n",
    "## What this session covers:\n",
    "* Introduction to llama-agents and its role in building multi-agent systems.\n",
    "* Setting up agents as microservices and enabling their communication via a message queue.\n",
    "* Defining and testing tools with hardcoded outputs to facilitate agent interaction.\n",
    "* Utilizing the control plane to manage tasks and orchestrate agent activities.\n",
    "* Demonstrating how agents collaborate to solve a problem or handle a specific challenge through coordinated task execution."
   ]
  },
  {
   "cell_type": "markdown",
   "metadata": {},
   "source": [
    "## Install Libraries"
   ]
  },
  {
   "cell_type": "code",
   "execution_count": null,
   "metadata": {},
   "outputs": [],
   "source": [
    "#!pip install nest_asyncio\n",
    "#!pip install llama-agents llama-index-agent-openai llama-index-embeddings-openai"
   ]
  },
  {
   "cell_type": "markdown",
   "metadata": {},
   "source": [
    "## Import Initial Modules"
   ]
  },
  {
   "cell_type": "code",
   "execution_count": 1,
   "metadata": {},
   "outputs": [],
   "source": [
    "import nest_asyncio\n",
    "import logging\n",
    "import os\n",
    "\n",
    "nest_asyncio.apply()\n",
    "\n",
    "logging.basicConfig(level=logging.DEBUG)"
   ]
  },
  {
   "cell_type": "markdown",
   "metadata": {},
   "source": [
    "## Set OpenAI API Key"
   ]
  },
  {
   "cell_type": "code",
   "execution_count": null,
   "metadata": {},
   "outputs": [],
   "source": [
    "os.environ[\"OPENAI_API_KEY\"] = \"\""
   ]
  },
  {
   "cell_type": "markdown",
   "metadata": {},
   "source": [
    "## Define Agents"
   ]
  },
  {
   "cell_type": "markdown",
   "metadata": {},
   "source": [
    "### SOC Analyst Agent"
   ]
  },
  {
   "cell_type": "markdown",
   "metadata": {},
   "source": [
    "#### Define Tools"
   ]
  },
  {
   "cell_type": "code",
   "execution_count": null,
   "metadata": {},
   "outputs": [],
   "source": [
    "from llama_index.core.tools import FunctionTool\n",
    "\n",
    "def get_alert(id: str) -> dict:\n",
    "    \"\"\"Returns alert information.\"\"\"\n",
    "    alerts = {\n",
    "        \"f96a7f37-e7f1-410f-85d3-93056e6601a5\": {\n",
    "            \"alert\": \"Suspicious Login Attempt Detected\",\n",
    "            \"severity\": \"High\",\n",
    "            \"indicators\": {\n",
    "                \"failed_login_attempts\": 5,\n",
    "                \"successful_login_time\": \"2024-08-05T10:15:30Z\",\n",
    "                \"unfamiliar_ip\": \"192.0.2.123\",\n",
    "                \"geo_location\": \"Unknown Region\",\n",
    "                \"affected_user\": \"jdoe@example.com\"\n",
    "            }\n",
    "        },\n",
    "        \"a88c5e2a-2a4b-4848-b6e2-8f726a098b4e\": {\n",
    "            \"alert\": \"Malware Detected in Cloud Storage\",\n",
    "            \"severity\": \"Critical\",\n",
    "            \"indicators\": {\n",
    "                \"file_name\": \"invoice2024.exe\",\n",
    "                \"file_hash\": \"d41d8cd98f00b204e9800998ecf8427e\",\n",
    "                \"detection_time\": \"2024-08-05T12:45:00Z\",\n",
    "                \"quarantine_status\": \"Quarantined\",\n",
    "                \"malware_family\": \"RansomwareX\",\n",
    "                \"affected_users\": [\"asmith@example.com\", \"bjones@example.com\"]\n",
    "            }\n",
    "        },\n",
    "        \"d1b65937-0d8d-4b7e-8d2f-9e3412e0e1a4\": {\n",
    "            \"alert\": \"Unusual Data Transfer Activity\",\n",
    "            \"severity\": \"Medium\",\n",
    "            \"indicators\": {\n",
    "                \"data_volume\": \"150GB\",\n",
    "                \"transfer_start_time\": \"2024-08-04T08:00:00Z\",\n",
    "                \"transfer_end_time\": \"2024-08-04T09:30:00Z\",\n",
    "                \"external_ip\": \"203.0.113.45\",\n",
    "                \"source_database\": \"CustomerDB\",\n",
    "                \"initiating_user\": \"jroe@example.com\"\n",
    "            }\n",
    "        }\n",
    "    }\n",
    "    return alerts.get(id, \"Alert ID not found\")\n",
    "\n",
    "get_alert_tool = FunctionTool.from_defaults(fn=get_alert)"
   ]
  },
  {
   "cell_type": "code",
   "execution_count": null,
   "metadata": {},
   "outputs": [],
   "source": [
    "def analyze_user_behavior(user: str) -> dict:\n",
    "    \"\"\"Analyzes the behavior of a user account.\"\"\"\n",
    "    # Fake behavior analysis\n",
    "    behavior_analysis = {\n",
    "        \"user\": user,\n",
    "        \"login_history\": [\n",
    "            {\"time\": \"2024-08-01T09:00:00Z\", \"ip\": \"198.51.100.23\"},\n",
    "            {\"time\": \"2024-08-02T11:00:00Z\", \"ip\": \"198.51.100.23\"},\n",
    "            {\"time\": \"2024-08-05T10:15:30Z\", \"ip\": \"192.0.2.123\"}\n",
    "        ],\n",
    "        \"anomalous_activities\": [\"Suspicious Login Attempt\"]\n",
    "    }\n",
    "    return behavior_analysis\n",
    "\n",
    "analyze_user_behavior_tool = FunctionTool.from_defaults(fn=analyze_user_behavior)\n",
    "\n",
    "def analyze_data_transfer(data_volume: str, external_ip: str) -> dict:\n",
    "    \"\"\"Analyzes unusual data transfer activities.\"\"\"\n",
    "    # Fake data transfer analysis result\n",
    "    data_transfer_analysis = {\n",
    "        \"data_volume\": data_volume,\n",
    "        \"external_ip\": external_ip,\n",
    "        \"suspicious\": True,\n",
    "        \"potential_exfiltration\": True\n",
    "    }\n",
    "    return data_transfer_analysis\n",
    "\n",
    "analyze_data_transfer_tool = FunctionTool.from_defaults(fn=analyze_data_transfer)"
   ]
  },
  {
   "cell_type": "markdown",
   "metadata": {},
   "source": [
    "#### Define SOC Analyst Agent"
   ]
  },
  {
   "cell_type": "code",
   "execution_count": null,
   "metadata": {},
   "outputs": [],
   "source": [
    "from llama_index.core.agent import ReActAgent\n",
    "from llama_index.llms.openai import OpenAI\n",
    "\n",
    "soc_analyst_tools = [get_alert_tool, analyze_user_behavior_tool, analyze_data_transfer_tool]\n",
    "\n",
    "soc_analyst_agent = ReActAgent.from_tools(soc_analyst_tools, llm=OpenAI())"
   ]
  },
  {
   "cell_type": "markdown",
   "metadata": {},
   "source": [
    "### Threat Intelligence Analyst Agent"
   ]
  },
  {
   "cell_type": "markdown",
   "metadata": {},
   "source": [
    "#### Define Tools"
   ]
  },
  {
   "cell_type": "code",
   "execution_count": null,
   "metadata": {},
   "outputs": [],
   "source": [
    "def analyze_ip(ip: str) -> dict:\n",
    "    \"\"\"Enriches information and supports analysis of IP address for reputation and geolocation.\"\"\"\n",
    "    # Fake analysis result\n",
    "    analysis_result = {\n",
    "        \"ip\": ip,\n",
    "        \"reputation\": \"suspicious\",\n",
    "        \"geo_location\": \"Unknown Region\",\n",
    "        \"known_associations\": [\"malware distribution\", \"botnet activity\"]\n",
    "    }\n",
    "    return analysis_result\n",
    "\n",
    "analyze_ip_tool = FunctionTool.from_defaults(fn=analyze_ip)"
   ]
  },
  {
   "cell_type": "markdown",
   "metadata": {},
   "source": [
    "#### Define TI Agent"
   ]
  },
  {
   "cell_type": "code",
   "execution_count": null,
   "metadata": {},
   "outputs": [],
   "source": [
    "ti_analyst_tools = [analyze_ip_tool]\n",
    "\n",
    "ti_analyst_agent = ReActAgent.from_tools(ti_analyst_tools, llm=OpenAI())"
   ]
  },
  {
   "cell_type": "markdown",
   "metadata": {},
   "source": [
    "### Reverse Engineer Agent"
   ]
  },
  {
   "cell_type": "markdown",
   "metadata": {},
   "source": [
    "#### Define Tools"
   ]
  },
  {
   "cell_type": "code",
   "execution_count": null,
   "metadata": {},
   "outputs": [],
   "source": [
    "def analyze_file(file_hash: str) -> dict:\n",
    "    \"\"\"Analyzes a file for malware signatures and behavior.\"\"\"\n",
    "    # Fake file analysis result\n",
    "    file_analysis_result = {\n",
    "        \"file_hash\": file_hash,\n",
    "        \"detected_malware\": \"RansomwareX\",\n",
    "        \"behavior\": [\"encrypts files\", \"contacts C2 server\"]\n",
    "    }\n",
    "    return file_analysis_result\n",
    "\n",
    "analyze_file_tool = FunctionTool.from_defaults(fn=analyze_file)"
   ]
  },
  {
   "cell_type": "markdown",
   "metadata": {},
   "source": [
    "#### Define Reverse Engineer Agent"
   ]
  },
  {
   "cell_type": "code",
   "execution_count": null,
   "metadata": {},
   "outputs": [],
   "source": [
    "re_tools = [analyze_file_tool]\n",
    "\n",
    "re_agent = ReActAgent.from_tools(re_tools, llm=OpenAI())"
   ]
  },
  {
   "cell_type": "markdown",
   "metadata": {},
   "source": [
    "## Define Message Queue"
   ]
  },
  {
   "cell_type": "code",
   "execution_count": null,
   "metadata": {},
   "outputs": [],
   "source": [
    "from llama_agents import SimpleMessageQueue\n",
    "\n",
    "# create our multi-agent framework components\n",
    "message_queue = SimpleMessageQueue(port=8000)"
   ]
  },
  {
   "cell_type": "markdown",
   "metadata": {},
   "source": [
    "## Define Agents as Microservices"
   ]
  },
  {
   "cell_type": "code",
   "execution_count": null,
   "metadata": {},
   "outputs": [],
   "source": [
    "from llama_agents import AgentService"
   ]
  },
  {
   "cell_type": "code",
   "execution_count": null,
   "metadata": {},
   "outputs": [],
   "source": [
    "soc_agent_server = AgentService(\n",
    "    agent=soc_analyst_agent,\n",
    "    message_queue=message_queue,\n",
    "    description=\"Useful for analyzing alerts.\",\n",
    "    service_name=\"soc_analyst_agent\",\n",
    "    port=8002,\n",
    ")\n",
    "ti_agent_server = AgentService(\n",
    "    agent=ti_analyst_agent,\n",
    "    message_queue=message_queue,\n",
    "    description=\"Useful for enriching indicators of compromise such as IP Addresses during alert investigations.\",\n",
    "    service_name=\"ti_analyst_agent\",\n",
    "    port=8003,\n",
    ")\n",
    "re_agent_server = AgentService(\n",
    "    agent=re_agent,\n",
    "    message_queue=message_queue,\n",
    "    description=\"Useful for reversing files during alert investigations.\",\n",
    "    service_name=\"re_agent\",\n",
    "    port=8004,\n",
    ")"
   ]
  },
  {
   "cell_type": "markdown",
   "metadata": {},
   "source": [
    "## Define Orchestrator"
   ]
  },
  {
   "cell_type": "code",
   "execution_count": null,
   "metadata": {},
   "outputs": [],
   "source": [
    "from llama_agents import (\n",
    "    AgentOrchestrator,\n",
    "    ControlPlaneServer,\n",
    ")\n",
    "\n",
    "control_plane = ControlPlaneServer(\n",
    "    message_queue=message_queue,\n",
    "    orchestrator=AgentOrchestrator(llm=OpenAI(model=\"gpt-4-turbo\",)),\n",
    "    port=8001,\n",
    ")"
   ]
  },
  {
   "cell_type": "markdown",
   "metadata": {},
   "source": [
    "## Define Launcher"
   ]
  },
  {
   "cell_type": "code",
   "execution_count": null,
   "metadata": {},
   "outputs": [],
   "source": [
    "from llama_agents import LocalLauncher\n",
    "\n",
    "# launch it\n",
    "launcher = LocalLauncher(\n",
    "    [soc_agent_server, ti_agent_server, re_agent_server],\n",
    "    control_plane,\n",
    "    message_queue,\n",
    ")"
   ]
  },
  {
   "cell_type": "markdown",
   "metadata": {},
   "source": [
    "## Run Multi-Agent System"
   ]
  },
  {
   "cell_type": "code",
   "execution_count": null,
   "metadata": {},
   "outputs": [],
   "source": [
    "result = launcher.launch_single(\"Investigate alert f96a7f37-e7f1-410f-85d3-93056e6601a5\")\n",
    "\n",
    "print(f\"Result: {result}\")"
   ]
  }
 ],
 "metadata": {
  "kernelspec": {
   "display_name": "Python 3 (ipykernel)",
   "language": "python",
   "name": "python3"
  },
  "language_info": {
   "codemirror_mode": {
    "name": "ipython",
    "version": 3
   },
   "file_extension": ".py",
   "mimetype": "text/x-python",
   "name": "python",
   "nbconvert_exporter": "python",
   "pygments_lexer": "ipython3",
   "version": "3.12.4"
  }
 },
 "nbformat": 4,
 "nbformat_minor": 2
}
