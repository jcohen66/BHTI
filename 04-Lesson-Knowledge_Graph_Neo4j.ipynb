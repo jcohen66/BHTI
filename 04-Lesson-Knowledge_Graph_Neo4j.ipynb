{
 "cells": [
  {
   "cell_type": "markdown",
   "metadata": {},
   "source": [
    "# Module 8: 4 - Optimizing RAG - Knowledge Graph using Neo4j\n",
    "----------------------------------------------------------------------------\n",
    "In this lesson, we will explore how to upload knowledge graph context to a Neo4j server using the [cypher](https://neo4j.com/docs/cypher-manual/current/introduction/) clarative query language.\n",
    "\n",
    "## Objectives\n",
    "* Upload GraphRAG context to Neo4j server\n",
    "* Learn cypher statements schema to upload GraphRAG context\n",
    "* Visualize GraphRAG context in Ne4j server\n",
    "\n",
    "## What this session covers:\n",
    "* Create Neo4j driver\n",
    "* Define function to upload GraphRAG context to Neo4j\n",
    "* Read GraphRAG context from parquet files\n",
    "* Upload GraphRAG context to Neo4j server\n",
    "\n",
    "## Pre-Requisites\n",
    "* Neo4j database server running\n",
    "\n",
    "## Reference\n",
    "* https://github.com/graphrag/ms-graphrag/blob/graphrag_import_neo4j_cypher/examples_notebooks/neo4j/graphrag_import_neo4j_cypher.ipynb"
   ]
  },
  {
   "cell_type": "markdown",
   "metadata": {},
   "source": [
    "## Install Libraries"
   ]
  },
  {
   "cell_type": "code",
   "execution_count": null,
   "metadata": {},
   "outputs": [],
   "source": [
    "#!pip install pandas\n",
    "#!pip install neo4j\n",
    "#!pip install time"
   ]
  },
  {
   "cell_type": "markdown",
   "metadata": {},
   "source": [
    "## Define Paths"
   ]
  },
  {
   "cell_type": "code",
   "execution_count": null,
   "metadata": {},
   "outputs": [],
   "source": [
    "# Defining path to artifacts\n",
    "GRAPHRAG_FOLDER=\"./data/output/20240801-133147/artifacts\""
   ]
  },
  {
   "cell_type": "markdown",
   "metadata": {},
   "source": [
    "## Start Neo4j Docker Container"
   ]
  },
  {
   "cell_type": "markdown",
   "metadata": {},
   "source": [
    "docker run \\\n",
    "    --restart always \\\n",
    "    --publish=7474:7474 --publish=7687:7687 \\\n",
    "    --env NEO4J_AUTH=neo4j/pandaneo4j \\\n",
    "    --volume=neo4j-data \\\n",
    "    --name neo4j-apoc \\\n",
    "    --env NEO4J_apoc_export_file_enabled=true \\           \n",
    "    --env NEO4J_apoc_import_file_enabled=true \\           \n",
    "    --env NEO4J_apoc_import_file_use__neo4j__config=true \\\n",
    "    --env NEO4J_PLUGINS=\\[\\\"apoc\\\"\\] \\\n",
    "    neo4j:latest"
   ]
  },
  {
   "cell_type": "markdown",
   "metadata": {},
   "source": [
    "## Connect to Neo4j Server"
   ]
  },
  {
   "cell_type": "code",
   "execution_count": null,
   "metadata": {},
   "outputs": [],
   "source": [
    "from neo4j import GraphDatabase\n",
    "\n",
    "# Defining Neo4J connection parameters\n",
    "NEO4J_URI=\"neo4j://localhost:7687\" # or neo4j+s://xxxx.databases.neo4j.io \n",
    "NEO4J_USERNAME=\"neo4j\"\n",
    "NEO4J_PASSWORD=\"pandaneo4j\"\n",
    "NEO4J_DATABASE=\"neo4j\"\n",
    "\n",
    "# Create a Neo4j driver\n",
    "driver = GraphDatabase.driver(NEO4J_URI, auth=(NEO4J_USERNAME, NEO4J_PASSWORD))"
   ]
  },
  {
   "cell_type": "markdown",
   "metadata": {},
   "source": [
    "## Define Function to Send Data to Neo4j"
   ]
  },
  {
   "cell_type": "code",
   "execution_count": 1,
   "metadata": {},
   "outputs": [],
   "source": [
    "import pandas as pd\n",
    "import time\n",
    "\n",
    "# Defining function \n",
    "def batched_import(statement, df, batch_size=1000):\n",
    "    \"\"\"\n",
    "    Import a dataframe into Neo4j using a batched approach.\n",
    "    Parameters: statement is the Cypher query to execute, \n",
    "                df is the dataframe to import, \n",
    "                and batch_size is the number of rows to import in each batch.\n",
    "    \"\"\"\n",
    "    total = len(df)\n",
    "    start_s = time.time()\n",
    "    for start in range(0,total, batch_size):\n",
    "        batch = df.iloc[start: min(start+batch_size,total)]\n",
    "        result = driver.execute_query(\"UNWIND $rows AS value \" + statement, \n",
    "                                      rows=batch.to_dict('records'),\n",
    "                                      database_=NEO4J_DATABASE)\n",
    "        print(result.summary.counters)\n",
    "    print(f'{total} rows in { time.time() - start_s} s.')    \n",
    "    return total"
   ]
  },
  {
   "cell_type": "markdown",
   "metadata": {},
   "source": [
    "# Define Constraints (Avoid duplciates)"
   ]
  },
  {
   "cell_type": "code",
   "execution_count": null,
   "metadata": {},
   "outputs": [
    {
     "name": "stdout",
     "output_type": "stream",
     "text": [
      "\n",
      "create constraint chunk_id if not exists for (c:__Chunk__) require c.id is unique\n",
      "\n",
      "create constraint document_id if not exists for (d:__Document__) require d.id is unique\n",
      "\n",
      "create constraint entity_id if not exists for (c:__Community__) require c.community is unique\n",
      "\n",
      "create constraint entity_id if not exists for (e:__Entity__) require e.id is unique\n",
      "\n",
      "create constraint entity_title if not exists for (e:__Entity__) require e.name is unique\n",
      "\n",
      "create constraint entity_title if not exists for (e:__Covariate__) require e.title is unique\n",
      "\n",
      "create constraint related_id if not exists for ()-[rel:RELATED]->() require rel.id is unique\n"
     ]
    }
   ],
   "source": [
    "# Create constraints, idempotent operation\n",
    "statements = \"\"\"\n",
    "create constraint chunk_id if not exists for (c:__Chunk__) require c.id is unique;\n",
    "create constraint document_id if not exists for (d:__Document__) require d.id is unique;\n",
    "create constraint entity_id if not exists for (c:__Community__) require c.community is unique;\n",
    "create constraint entity_id if not exists for (e:__Entity__) require e.id is unique;\n",
    "create constraint entity_title if not exists for (e:__Entity__) require e.name is unique;\n",
    "create constraint entity_title if not exists for (e:__Covariate__) require e.title is unique;\n",
    "create constraint related_id if not exists for ()-[rel:RELATED]->() require rel.id is unique;\n",
    "\"\"\".split(\";\")\n",
    "\n",
    "# Uploading constraints\n",
    "for statement in statements:\n",
    "    if len((statement or \"\").strip()) > 0:\n",
    "        print(statement)\n",
    "        driver.execute_query(statement)"
   ]
  },
  {
   "cell_type": "markdown",
   "metadata": {},
   "source": [
    "## Uploading Knowledge Graph Context"
   ]
  },
  {
   "cell_type": "markdown",
   "metadata": {},
   "source": [
    "### Documents (.md files)"
   ]
  },
  {
   "cell_type": "code",
   "execution_count": null,
   "metadata": {},
   "outputs": [
    {
     "data": {
      "text/html": [
       "<div>\n",
       "<style scoped>\n",
       "    .dataframe tbody tr th:only-of-type {\n",
       "        vertical-align: middle;\n",
       "    }\n",
       "\n",
       "    .dataframe tbody tr th {\n",
       "        vertical-align: top;\n",
       "    }\n",
       "\n",
       "    .dataframe thead th {\n",
       "        text-align: right;\n",
       "    }\n",
       "</style>\n",
       "<table border=\"1\" class=\"dataframe\">\n",
       "  <thead>\n",
       "    <tr style=\"text-align: right;\">\n",
       "      <th></th>\n",
       "      <th>id</th>\n",
       "      <th>title</th>\n",
       "    </tr>\n",
       "  </thead>\n",
       "  <tbody>\n",
       "    <tr>\n",
       "      <th>0</th>\n",
       "      <td>afd6025b421d49a061e3a6acf74daedd</td>\n",
       "      <td>FIN7.md</td>\n",
       "    </tr>\n",
       "    <tr>\n",
       "      <th>1</th>\n",
       "      <td>2362aa068c9293d37a7f821c903e629c</td>\n",
       "      <td>Sandworm_Team.md</td>\n",
       "    </tr>\n",
       "    <tr>\n",
       "      <th>2</th>\n",
       "      <td>f9ba917021b741eb0f3f9f29a48196e1</td>\n",
       "      <td>Carbanak.md</td>\n",
       "    </tr>\n",
       "    <tr>\n",
       "      <th>3</th>\n",
       "      <td>5767232d0a7dd9885f8d1b8c2ef28d3e</td>\n",
       "      <td>Turla.md</td>\n",
       "    </tr>\n",
       "    <tr>\n",
       "      <th>4</th>\n",
       "      <td>fd55c2bb3647d332545d696deb751d13</td>\n",
       "      <td>APT29.md</td>\n",
       "    </tr>\n",
       "  </tbody>\n",
       "</table>\n",
       "</div>"
      ],
      "text/plain": [
       "                                 id             title\n",
       "0  afd6025b421d49a061e3a6acf74daedd           FIN7.md\n",
       "1  2362aa068c9293d37a7f821c903e629c  Sandworm_Team.md\n",
       "2  f9ba917021b741eb0f3f9f29a48196e1       Carbanak.md\n",
       "3  5767232d0a7dd9885f8d1b8c2ef28d3e          Turla.md\n",
       "4  fd55c2bb3647d332545d696deb751d13          APT29.md"
      ]
     },
     "metadata": {},
     "output_type": "display_data"
    }
   ],
   "source": [
    "# Create documents dataframe\n",
    "doc_df = pd.read_parquet(f'{GRAPHRAG_FOLDER}/create_final_documents.parquet', columns=[\"id\", \"title\"])\n",
    "doc_df.head()"
   ]
  },
  {
   "cell_type": "code",
   "execution_count": null,
   "metadata": {},
   "outputs": [
    {
     "name": "stdout",
     "output_type": "stream",
     "text": [
      "{'_contains_updates': True, 'labels_added': 9, 'nodes_created': 9, 'properties_set': 18}\n",
      "9 rows in 0.18384718894958496 s.\n"
     ]
    },
    {
     "data": {
      "text/plain": [
       "9"
      ]
     },
     "metadata": {},
     "output_type": "display_data"
    }
   ],
   "source": [
    "# Define and upload context\n",
    "doc_statement = \"\"\"\n",
    "MERGE (d:__Document__ {id:value.id})\n",
    "SET d += value {.title}\n",
    "\"\"\"\n",
    "batched_import(doc_statement, doc_df)"
   ]
  },
  {
   "cell_type": "markdown",
   "metadata": {},
   "source": [
    "### Text Units (Chunks)"
   ]
  },
  {
   "cell_type": "code",
   "execution_count": null,
   "metadata": {},
   "outputs": [
    {
     "data": {
      "text/html": [
       "<div>\n",
       "<style scoped>\n",
       "    .dataframe tbody tr th:only-of-type {\n",
       "        vertical-align: middle;\n",
       "    }\n",
       "\n",
       "    .dataframe tbody tr th {\n",
       "        vertical-align: top;\n",
       "    }\n",
       "\n",
       "    .dataframe thead th {\n",
       "        text-align: right;\n",
       "    }\n",
       "</style>\n",
       "<table border=\"1\" class=\"dataframe\">\n",
       "  <thead>\n",
       "    <tr style=\"text-align: right;\">\n",
       "      <th></th>\n",
       "      <th>id</th>\n",
       "      <th>text</th>\n",
       "      <th>n_tokens</th>\n",
       "      <th>document_ids</th>\n",
       "    </tr>\n",
       "  </thead>\n",
       "  <tbody>\n",
       "    <tr>\n",
       "      <th>0</th>\n",
       "      <td>bdbda95d8a567d3c9ee1d96ffbd1e2c0</td>\n",
       "      <td># Sandworm Team - G0034\\n\\n**Created**: 2017-05-31T21:32:04.588Z\\n\\n**Modified**: 2024-04-06T19:...</td>\n",
       "      <td>1200</td>\n",
       "      <td>[2362aa068c9293d37a7f821c903e629c]</td>\n",
       "    </tr>\n",
       "    <tr>\n",
       "      <th>1</th>\n",
       "      <td>5e839788284eecb63814ac126969a91f</td>\n",
       "      <td>HTML tags for the communication traffic between the C2 server.(Citation: ESET Telebots Dec 2016...</td>\n",
       "      <td>1200</td>\n",
       "      <td>[2362aa068c9293d37a7f821c903e629c]</td>\n",
       "    </tr>\n",
       "    <tr>\n",
       "      <th>2</th>\n",
       "      <td>51659aba82df667a55ca598ef7d761f4</td>\n",
       "      <td>door password to maintain persistence within the target network. [Sandworm Team](https://attack....</td>\n",
       "      <td>1200</td>\n",
       "      <td>[2362aa068c9293d37a7f821c903e629c]</td>\n",
       "    </tr>\n",
       "    <tr>\n",
       "      <th>3</th>\n",
       "      <td>e8027f448bcfaa176bfb6c261f96b671</td>\n",
       "      <td>://attack.mitre.org/software/S1058) operations.(Citation: US District Court Indictment GRU Unit ...</td>\n",
       "      <td>1200</td>\n",
       "      <td>[2362aa068c9293d37a7f821c903e629c]</td>\n",
       "    </tr>\n",
       "    <tr>\n",
       "      <th>4</th>\n",
       "      <td>2dc4bd2cb621b71f05523705af6b571f</td>\n",
       "      <td>1505.003|Web Shell|[Sandworm Team](https://attack.mitre.org/groups/G0034) has used webshells inc...</td>\n",
       "      <td>1200</td>\n",
       "      <td>[2362aa068c9293d37a7f821c903e629c]</td>\n",
       "    </tr>\n",
       "  </tbody>\n",
       "</table>\n",
       "</div>"
      ],
      "text/plain": [
       "                                 id  \\\n",
       "0  bdbda95d8a567d3c9ee1d96ffbd1e2c0   \n",
       "1  5e839788284eecb63814ac126969a91f   \n",
       "2  51659aba82df667a55ca598ef7d761f4   \n",
       "3  e8027f448bcfaa176bfb6c261f96b671   \n",
       "4  2dc4bd2cb621b71f05523705af6b571f   \n",
       "\n",
       "                                                                                                  text  \\\n",
       "0  # Sandworm Team - G0034\\n\\n**Created**: 2017-05-31T21:32:04.588Z\\n\\n**Modified**: 2024-04-06T19:...   \n",
       "1   HTML tags for the communication traffic between the C2 server.(Citation: ESET Telebots Dec 2016...   \n",
       "2  door password to maintain persistence within the target network. [Sandworm Team](https://attack....   \n",
       "3  ://attack.mitre.org/software/S1058) operations.(Citation: US District Court Indictment GRU Unit ...   \n",
       "4  1505.003|Web Shell|[Sandworm Team](https://attack.mitre.org/groups/G0034) has used webshells inc...   \n",
       "\n",
       "   n_tokens                        document_ids  \n",
       "0      1200  [2362aa068c9293d37a7f821c903e629c]  \n",
       "1      1200  [2362aa068c9293d37a7f821c903e629c]  \n",
       "2      1200  [2362aa068c9293d37a7f821c903e629c]  \n",
       "3      1200  [2362aa068c9293d37a7f821c903e629c]  \n",
       "4      1200  [2362aa068c9293d37a7f821c903e629c]  "
      ]
     },
     "metadata": {},
     "output_type": "display_data"
    }
   ],
   "source": [
    "# Create chunks dataframe\n",
    "text_df = pd.read_parquet(f'{GRAPHRAG_FOLDER}/create_final_text_units.parquet',\n",
    "                          columns=[\"id\",\"text\",\"n_tokens\",\"document_ids\"])\n",
    "text_df.head()"
   ]
  },
  {
   "cell_type": "code",
   "execution_count": null,
   "metadata": {},
   "outputs": [
    {
     "name": "stdout",
     "output_type": "stream",
     "text": [
      "{'_contains_updates': True, 'labels_added': 46, 'relationships_created': 46, 'nodes_created': 46, 'properties_set': 138}\n",
      "46 rows in 0.1977369785308838 s.\n"
     ]
    },
    {
     "data": {
      "text/plain": [
       "46"
      ]
     },
     "metadata": {},
     "output_type": "display_data"
    }
   ],
   "source": [
    "# Define and upload context\n",
    "text_statement = \"\"\"\n",
    "MERGE (c:__Chunk__ {id:value.id})\n",
    "SET c += value {.text, .n_tokens}\n",
    "WITH c, value\n",
    "UNWIND value.document_ids AS document\n",
    "MATCH (d:__Document__ {id:document})\n",
    "MERGE (c)-[:PART_OF]->(d)\n",
    "\"\"\"\n",
    "batched_import(text_statement, text_df)"
   ]
  },
  {
   "cell_type": "markdown",
   "metadata": {},
   "source": [
    "### Entities"
   ]
  },
  {
   "cell_type": "code",
   "execution_count": null,
   "metadata": {},
   "outputs": [
    {
     "data": {
      "text/html": [
       "<div>\n",
       "<style scoped>\n",
       "    .dataframe tbody tr th:only-of-type {\n",
       "        vertical-align: middle;\n",
       "    }\n",
       "\n",
       "    .dataframe tbody tr th {\n",
       "        vertical-align: top;\n",
       "    }\n",
       "\n",
       "    .dataframe thead th {\n",
       "        text-align: right;\n",
       "    }\n",
       "</style>\n",
       "<table border=\"1\" class=\"dataframe\">\n",
       "  <thead>\n",
       "    <tr style=\"text-align: right;\">\n",
       "      <th></th>\n",
       "      <th>name</th>\n",
       "      <th>type</th>\n",
       "      <th>description</th>\n",
       "      <th>human_readable_id</th>\n",
       "      <th>id</th>\n",
       "      <th>description_embedding</th>\n",
       "      <th>text_unit_ids</th>\n",
       "    </tr>\n",
       "  </thead>\n",
       "  <tbody>\n",
       "    <tr>\n",
       "      <th>0</th>\n",
       "      <td>\"SANDWORM TEAM\"</td>\n",
       "      <td>\"ORGANIZATION\"</td>\n",
       "      <td>Sandworm Team, also known by multiple aliases including ELECTRUM, Telebots, IRON VIKING, BlackEn...</td>\n",
       "      <td>0</td>\n",
       "      <td>b45241d70f0e43fca764df95b2b81f77</td>\n",
       "      <td>[0.022811800241470337, 0.04036780819296837, 0.04281684383749962, 0.04548601433634758, -0.0054896...</td>\n",
       "      <td>[2dc4bd2cb621b71f05523705af6b571f, 396c22047983755b945f5235333819d3, 51659aba82df667a55ca598ef7d...</td>\n",
       "    </tr>\n",
       "    <tr>\n",
       "      <th>1</th>\n",
       "      <td>\"RUSSIA'S GENERAL STAFF MAIN INTELLIGENCE DIRECTORATE (GRU) MAIN CENTER FOR SPECIAL TECHNOLOGIES...</td>\n",
       "      <td>\"ORGANIZATION\"</td>\n",
       "      <td>\"Russia's GRU GTsST, military unit 74455, is the organization behind Sandworm Team, involved in ...</td>\n",
       "      <td>1</td>\n",
       "      <td>4119fd06010c494caa07f439b333f4c5</td>\n",
       "      <td>[-0.03776426985859871, 0.02152342163026333, 0.05562674254179001, 0.02057747170329094, -0.0243981...</td>\n",
       "      <td>[bdbda95d8a567d3c9ee1d96ffbd1e2c0]</td>\n",
       "    </tr>\n",
       "  </tbody>\n",
       "</table>\n",
       "</div>"
      ],
      "text/plain": [
       "                                                                                                  name  \\\n",
       "0                                                                                      \"SANDWORM TEAM\"   \n",
       "1  \"RUSSIA'S GENERAL STAFF MAIN INTELLIGENCE DIRECTORATE (GRU) MAIN CENTER FOR SPECIAL TECHNOLOGIES...   \n",
       "\n",
       "             type  \\\n",
       "0  \"ORGANIZATION\"   \n",
       "1  \"ORGANIZATION\"   \n",
       "\n",
       "                                                                                           description  \\\n",
       "0  Sandworm Team, also known by multiple aliases including ELECTRUM, Telebots, IRON VIKING, BlackEn...   \n",
       "1  \"Russia's GRU GTsST, military unit 74455, is the organization behind Sandworm Team, involved in ...   \n",
       "\n",
       "   human_readable_id                                id  \\\n",
       "0                  0  b45241d70f0e43fca764df95b2b81f77   \n",
       "1                  1  4119fd06010c494caa07f439b333f4c5   \n",
       "\n",
       "                                                                                 description_embedding  \\\n",
       "0  [0.022811800241470337, 0.04036780819296837, 0.04281684383749962, 0.04548601433634758, -0.0054896...   \n",
       "1  [-0.03776426985859871, 0.02152342163026333, 0.05562674254179001, 0.02057747170329094, -0.0243981...   \n",
       "\n",
       "                                                                                         text_unit_ids  \n",
       "0  [2dc4bd2cb621b71f05523705af6b571f, 396c22047983755b945f5235333819d3, 51659aba82df667a55ca598ef7d...  \n",
       "1                                                                   [bdbda95d8a567d3c9ee1d96ffbd1e2c0]  "
      ]
     },
     "metadata": {},
     "output_type": "display_data"
    }
   ],
   "source": [
    "# Create entities dataframe\n",
    "entity_df = pd.read_parquet(f'{GRAPHRAG_FOLDER}/create_final_entities.parquet',\n",
    "                            columns=[\"name\",\"type\",\"description\",\"human_readable_id\",\"id\",\"description_embedding\",\"text_unit_ids\"])\n",
    "entity_df.head(n = 2)"
   ]
  },
  {
   "cell_type": "code",
   "execution_count": null,
   "metadata": {},
   "outputs": [
    {
     "name": "stdout",
     "output_type": "stream",
     "text": [
      "{'_contains_updates': True, 'labels_added': 357, 'relationships_created': 620, 'nodes_created': 357, 'properties_set': 1428}\n",
      "357 rows in 0.8195133209228516 s.\n"
     ]
    },
    {
     "data": {
      "text/plain": [
       "357"
      ]
     },
     "metadata": {},
     "output_type": "display_data"
    }
   ],
   "source": [
    "# Define and upload context\n",
    "entity_statement = \"\"\"\n",
    "MERGE (e:__Entity__ {id:value.id})\n",
    "SET e += value {.human_readable_id, .description, name:replace(value.name,'\"','')}\n",
    "WITH e, value\n",
    "CALL db.create.setNodeVectorProperty(e, \"description_embedding\", value.description_embedding)\n",
    "CALL apoc.create.addLabels(e, case when coalesce(value.type,\"\") = \"\" then [] else [apoc.text.upperCamelCase(replace(value.type,'\"',''))] end) yield node\n",
    "UNWIND value.text_unit_ids AS text_unit\n",
    "MATCH (c:__Chunk__ {id:text_unit})\n",
    "MERGE (c)-[:EXTRACTED_FROM]->(e)\n",
    "\"\"\"\n",
    "batched_import(entity_statement, entity_df)"
   ]
  },
  {
   "cell_type": "markdown",
   "metadata": {},
   "source": [
    "### Relationships"
   ]
  },
  {
   "cell_type": "code",
   "execution_count": null,
   "metadata": {},
   "outputs": [
    {
     "data": {
      "text/html": [
       "<div>\n",
       "<style scoped>\n",
       "    .dataframe tbody tr th:only-of-type {\n",
       "        vertical-align: middle;\n",
       "    }\n",
       "\n",
       "    .dataframe tbody tr th {\n",
       "        vertical-align: top;\n",
       "    }\n",
       "\n",
       "    .dataframe thead th {\n",
       "        text-align: right;\n",
       "    }\n",
       "</style>\n",
       "<table border=\"1\" class=\"dataframe\">\n",
       "  <thead>\n",
       "    <tr style=\"text-align: right;\">\n",
       "      <th></th>\n",
       "      <th>source</th>\n",
       "      <th>target</th>\n",
       "      <th>id</th>\n",
       "      <th>rank</th>\n",
       "      <th>weight</th>\n",
       "      <th>human_readable_id</th>\n",
       "      <th>description</th>\n",
       "      <th>text_unit_ids</th>\n",
       "    </tr>\n",
       "  </thead>\n",
       "  <tbody>\n",
       "    <tr>\n",
       "      <th>0</th>\n",
       "      <td>\"SANDWORM TEAM\"</td>\n",
       "      <td>\"RUSSIA'S GENERAL STAFF MAIN INTELLIGENCE DIRECTORATE (GRU) MAIN CENTER FOR SPECIAL TECHNOLOGIES...</td>\n",
       "      <td>36be44627ece444284f9e759b8cd25c6</td>\n",
       "      <td>43</td>\n",
       "      <td>1.0</td>\n",
       "      <td>0</td>\n",
       "      <td>\"Sandworm Team is attributed to and operates under the GRU GTsST military unit 74455.\"</td>\n",
       "      <td>[bdbda95d8a567d3c9ee1d96ffbd1e2c0]</td>\n",
       "    </tr>\n",
       "    <tr>\n",
       "      <th>1</th>\n",
       "      <td>\"SANDWORM TEAM\"</td>\n",
       "      <td>\"GRU UNIT 74455\"</td>\n",
       "      <td>a64b4b17b07a44e4b1ac33580d811936</td>\n",
       "      <td>43</td>\n",
       "      <td>2.0</td>\n",
       "      <td>1</td>\n",
       "      <td>Sandworm Team, directly associated with GRU Unit 74455, conducts cyber operations under its aegi...</td>\n",
       "      <td>[bdbda95d8a567d3c9ee1d96ffbd1e2c0, e8027f448bcfaa176bfb6c261f96b671]</td>\n",
       "    </tr>\n",
       "    <tr>\n",
       "      <th>2</th>\n",
       "      <td>\"SANDWORM TEAM\"</td>\n",
       "      <td>\"GRU UNIT 26165\"</td>\n",
       "      <td>423b72bbd56f4caa98f3328202c1c3c9</td>\n",
       "      <td>43</td>\n",
       "      <td>1.0</td>\n",
       "      <td>2</td>\n",
       "      <td>\"Sandworm Team collaborated with GRU Unit 26165, also known as APT28, in cyber operations.\"</td>\n",
       "      <td>[bdbda95d8a567d3c9ee1d96ffbd1e2c0]</td>\n",
       "    </tr>\n",
       "  </tbody>\n",
       "</table>\n",
       "</div>"
      ],
      "text/plain": [
       "            source  \\\n",
       "0  \"SANDWORM TEAM\"   \n",
       "1  \"SANDWORM TEAM\"   \n",
       "2  \"SANDWORM TEAM\"   \n",
       "\n",
       "                                                                                                target  \\\n",
       "0  \"RUSSIA'S GENERAL STAFF MAIN INTELLIGENCE DIRECTORATE (GRU) MAIN CENTER FOR SPECIAL TECHNOLOGIES...   \n",
       "1                                                                                     \"GRU UNIT 74455\"   \n",
       "2                                                                                     \"GRU UNIT 26165\"   \n",
       "\n",
       "                                 id  rank  weight human_readable_id  \\\n",
       "0  36be44627ece444284f9e759b8cd25c6    43     1.0                 0   \n",
       "1  a64b4b17b07a44e4b1ac33580d811936    43     2.0                 1   \n",
       "2  423b72bbd56f4caa98f3328202c1c3c9    43     1.0                 2   \n",
       "\n",
       "                                                                                           description  \\\n",
       "0               \"Sandworm Team is attributed to and operates under the GRU GTsST military unit 74455.\"   \n",
       "1  Sandworm Team, directly associated with GRU Unit 74455, conducts cyber operations under its aegi...   \n",
       "2          \"Sandworm Team collaborated with GRU Unit 26165, also known as APT28, in cyber operations.\"   \n",
       "\n",
       "                                                          text_unit_ids  \n",
       "0                                    [bdbda95d8a567d3c9ee1d96ffbd1e2c0]  \n",
       "1  [bdbda95d8a567d3c9ee1d96ffbd1e2c0, e8027f448bcfaa176bfb6c261f96b671]  \n",
       "2                                    [bdbda95d8a567d3c9ee1d96ffbd1e2c0]  "
      ]
     },
     "metadata": {},
     "output_type": "display_data"
    }
   ],
   "source": [
    "# Create relationships dataframe\n",
    "rel_df = pd.read_parquet(f'{GRAPHRAG_FOLDER}/create_final_relationships.parquet',\n",
    "                         columns=[\"source\",\"target\",\"id\",\"rank\",\"weight\",\"human_readable_id\",\"description\",\"text_unit_ids\"])\n",
    "rel_df.head(n = 3)"
   ]
  },
  {
   "cell_type": "code",
   "execution_count": null,
   "metadata": {},
   "outputs": [
    {
     "name": "stdout",
     "output_type": "stream",
     "text": [
      "{'_contains_updates': True, 'relationships_created': 285, 'properties_set': 1710}\n",
      "285 rows in 0.27146220207214355 s.\n"
     ]
    },
    {
     "data": {
      "text/plain": [
       "285"
      ]
     },
     "metadata": {},
     "output_type": "display_data"
    }
   ],
   "source": [
    "# Define and upload context\n",
    "rel_statement = \"\"\"\n",
    "    MATCH (source:__Entity__ {name:replace(value.source,'\"','')})\n",
    "    MATCH (target:__Entity__ {name:replace(value.target,'\"','')})\n",
    "    // not necessary to merge on id as there is only one relationship per pair\n",
    "    MERGE (source)-[rel:RELATED {id: value.id}]->(target)\n",
    "    SET rel += value {.rank, .weight, .human_readable_id, .description, .text_unit_ids}\n",
    "    RETURN count(*) as createdRels\n",
    "\"\"\"\n",
    "batched_import(rel_statement, rel_df)"
   ]
  },
  {
   "cell_type": "markdown",
   "metadata": {},
   "source": [
    "### Communities"
   ]
  },
  {
   "cell_type": "code",
   "execution_count": null,
   "metadata": {},
   "outputs": [
    {
     "data": {
      "text/html": [
       "<div>\n",
       "<style scoped>\n",
       "    .dataframe tbody tr th:only-of-type {\n",
       "        vertical-align: middle;\n",
       "    }\n",
       "\n",
       "    .dataframe tbody tr th {\n",
       "        vertical-align: top;\n",
       "    }\n",
       "\n",
       "    .dataframe thead th {\n",
       "        text-align: right;\n",
       "    }\n",
       "</style>\n",
       "<table border=\"1\" class=\"dataframe\">\n",
       "  <thead>\n",
       "    <tr style=\"text-align: right;\">\n",
       "      <th></th>\n",
       "      <th>id</th>\n",
       "      <th>level</th>\n",
       "      <th>title</th>\n",
       "      <th>text_unit_ids</th>\n",
       "      <th>relationship_ids</th>\n",
       "    </tr>\n",
       "  </thead>\n",
       "  <tbody>\n",
       "    <tr>\n",
       "      <th>0</th>\n",
       "      <td>0</td>\n",
       "      <td>0</td>\n",
       "      <td>Community 0</td>\n",
       "      <td>[2dc4bd2cb621b71f05523705af6b571f,396c22047983755b945f5235333819d3,51659aba82df667a55ca598ef7d76...</td>\n",
       "      <td>[36be44627ece444284f9e759b8cd25c6, a64b4b17b07a44e4b1ac33580d811936, 423b72bbd56f4caa98f3328202c...</td>\n",
       "    </tr>\n",
       "    <tr>\n",
       "      <th>1</th>\n",
       "      <td>4</td>\n",
       "      <td>0</td>\n",
       "      <td>Community 4</td>\n",
       "      <td>[202bcc7099b468087583d88e9ddb57de,396c22047983755b945f5235333819d3,4e30c37f12c9daf946a2010e949a6...</td>\n",
       "      <td>[30a251bc3d04430d82b5a1a98c7b8c75, 93e1d19f9bfa4c6b8962d56d10ea9483, 8046335ba70b434aa3188392a74...</td>\n",
       "    </tr>\n",
       "    <tr>\n",
       "      <th>2</th>\n",
       "      <td>7</td>\n",
       "      <td>0</td>\n",
       "      <td>Community 7</td>\n",
       "      <td>[202bcc7099b468087583d88e9ddb57de,396c22047983755b945f5235333819d3,4e30c37f12c9daf946a2010e949a6...</td>\n",
       "      <td>[f026fab8fec948ae9e7baa2ad715e6ef, d0d7ed36d6f54b5d986dfd854096b728, bf6a4c18f44042799eb7456a6b8...</td>\n",
       "    </tr>\n",
       "    <tr>\n",
       "      <th>3</th>\n",
       "      <td>3</td>\n",
       "      <td>0</td>\n",
       "      <td>Community 3</td>\n",
       "      <td>[5e839788284eecb63814ac126969a91f,5f65c33bcf3ac888e54026ea0984d754,6e70fdd609af24bbd9ceb18ada071...</td>\n",
       "      <td>[0211d61aae834229a3a1e004ff5cc658, ccbbbcc055c34709abcf103208c2c299, 989add81cf874018a569239b68d...</td>\n",
       "    </tr>\n",
       "    <tr>\n",
       "      <th>4</th>\n",
       "      <td>5</td>\n",
       "      <td>0</td>\n",
       "      <td>Community 5</td>\n",
       "      <td>[5e839788284eecb63814ac126969a91f,6e70fdd609af24bbd9ceb18ada07107b,6f508e42f90f87ca9825acb2e42e4...</td>\n",
       "      <td>[711ba818354546cea69f1532b92a2f26, 5c4d8a8f9c104176b87d2bfdf04ae0bd, 5a781604f1fb4719b730f43f534...</td>\n",
       "    </tr>\n",
       "  </tbody>\n",
       "</table>\n",
       "</div>"
      ],
      "text/plain": [
       "  id  level        title  \\\n",
       "0  0      0  Community 0   \n",
       "1  4      0  Community 4   \n",
       "2  7      0  Community 7   \n",
       "3  3      0  Community 3   \n",
       "4  5      0  Community 5   \n",
       "\n",
       "                                                                                         text_unit_ids  \\\n",
       "0  [2dc4bd2cb621b71f05523705af6b571f,396c22047983755b945f5235333819d3,51659aba82df667a55ca598ef7d76...   \n",
       "1  [202bcc7099b468087583d88e9ddb57de,396c22047983755b945f5235333819d3,4e30c37f12c9daf946a2010e949a6...   \n",
       "2  [202bcc7099b468087583d88e9ddb57de,396c22047983755b945f5235333819d3,4e30c37f12c9daf946a2010e949a6...   \n",
       "3  [5e839788284eecb63814ac126969a91f,5f65c33bcf3ac888e54026ea0984d754,6e70fdd609af24bbd9ceb18ada071...   \n",
       "4  [5e839788284eecb63814ac126969a91f,6e70fdd609af24bbd9ceb18ada07107b,6f508e42f90f87ca9825acb2e42e4...   \n",
       "\n",
       "                                                                                      relationship_ids  \n",
       "0  [36be44627ece444284f9e759b8cd25c6, a64b4b17b07a44e4b1ac33580d811936, 423b72bbd56f4caa98f3328202c...  \n",
       "1  [30a251bc3d04430d82b5a1a98c7b8c75, 93e1d19f9bfa4c6b8962d56d10ea9483, 8046335ba70b434aa3188392a74...  \n",
       "2  [f026fab8fec948ae9e7baa2ad715e6ef, d0d7ed36d6f54b5d986dfd854096b728, bf6a4c18f44042799eb7456a6b8...  \n",
       "3  [0211d61aae834229a3a1e004ff5cc658, ccbbbcc055c34709abcf103208c2c299, 989add81cf874018a569239b68d...  \n",
       "4  [711ba818354546cea69f1532b92a2f26, 5c4d8a8f9c104176b87d2bfdf04ae0bd, 5a781604f1fb4719b730f43f534...  "
      ]
     },
     "metadata": {},
     "output_type": "display_data"
    }
   ],
   "source": [
    "# Create communities dataframe\n",
    "community_df = pd.read_parquet(f'{GRAPHRAG_FOLDER}/create_final_communities.parquet', \n",
    "                     columns=[\"id\",\"level\",\"title\",\"text_unit_ids\",\"relationship_ids\"])\n",
    "community_df.head(n=5)"
   ]
  },
  {
   "cell_type": "code",
   "execution_count": null,
   "metadata": {},
   "outputs": [
    {
     "name": "stdout",
     "output_type": "stream",
     "text": [
      "{'_contains_updates': True, 'labels_added': 15, 'relationships_created': 470, 'nodes_created': 15, 'properties_set': 45}\n",
      "15 rows in 0.17423105239868164 s.\n"
     ]
    },
    {
     "data": {
      "text/plain": [
       "15"
      ]
     },
     "metadata": {},
     "output_type": "display_data"
    }
   ],
   "source": [
    "# Define and upload context\n",
    "community_statement = \"\"\"\n",
    "MERGE (c:__Community__ {community:value.id})\n",
    "SET c += value {.level, .title}\n",
    "/*\n",
    "UNWIND value.text_unit_ids as text_unit_id\n",
    "MATCH (t:__Chunk__ {id:text_unit_id})\n",
    "MERGE (c)-[:HAS_CHUNK]->(t)\n",
    "WITH distinct c, value\n",
    "*/\n",
    "WITH *\n",
    "UNWIND value.relationship_ids as rel_id\n",
    "MATCH (start:__Entity__)-[:RELATED {id:rel_id}]->(end:__Entity__)\n",
    "MERGE (start)-[:IN_COMMUNITY]->(c)\n",
    "MERGE (end)-[:IN_COMMUNITY]->(c)\n",
    "RETURn count(distinct c) as createdCommunities\n",
    "\"\"\"\n",
    "batched_import(community_statement, community_df)"
   ]
  },
  {
   "cell_type": "markdown",
   "metadata": {},
   "source": [
    "### Community Reports"
   ]
  },
  {
   "cell_type": "code",
   "execution_count": null,
   "metadata": {},
   "outputs": [
    {
     "data": {
      "text/html": [
       "<div>\n",
       "<style scoped>\n",
       "    .dataframe tbody tr th:only-of-type {\n",
       "        vertical-align: middle;\n",
       "    }\n",
       "\n",
       "    .dataframe tbody tr th {\n",
       "        vertical-align: top;\n",
       "    }\n",
       "\n",
       "    .dataframe thead th {\n",
       "        text-align: right;\n",
       "    }\n",
       "</style>\n",
       "<table border=\"1\" class=\"dataframe\">\n",
       "  <thead>\n",
       "    <tr style=\"text-align: right;\">\n",
       "      <th></th>\n",
       "      <th>id</th>\n",
       "      <th>community</th>\n",
       "      <th>level</th>\n",
       "      <th>title</th>\n",
       "      <th>summary</th>\n",
       "      <th>findings</th>\n",
       "      <th>rank</th>\n",
       "      <th>rank_explanation</th>\n",
       "      <th>full_content</th>\n",
       "    </tr>\n",
       "  </thead>\n",
       "  <tbody>\n",
       "    <tr>\n",
       "      <th>0</th>\n",
       "      <td>1bd35e5c-af30-4e33-b898-a8d58ef37083</td>\n",
       "      <td>10</td>\n",
       "      <td>1</td>\n",
       "      <td>Carbanak Group and Carbanak Malware</td>\n",
       "      <td>The community focuses on the Carbanak Group, known for its use of Carbanak malware, highlighting...</td>\n",
       "      <td>[{'explanation': 'The Carbanak Group is a prominent entity within the cybercrime community, know...</td>\n",
       "      <td>8.5</td>\n",
       "      <td>The high impact severity rating reflects the significant threat posed by the Carbanak Group's ac...</td>\n",
       "      <td># Carbanak Group and Carbanak Malware\\n\\nThe community focuses on the Carbanak Group, known for ...</td>\n",
       "    </tr>\n",
       "    <tr>\n",
       "      <th>1</th>\n",
       "      <td>4b8eb4db-bf82-4576-920a-ebf15d72fb95</td>\n",
       "      <td>11</td>\n",
       "      <td>1</td>\n",
       "      <td>Turla Cyber Espionage Activities and Infrastructure Targets</td>\n",
       "      <td>This report delves into the sophisticated cyber espionage activities of the Turla group, focusin...</td>\n",
       "      <td>[{'explanation': 'Turla, a group with ties to Russia's FSB, has been active since at least 2004,...</td>\n",
       "      <td>8.5</td>\n",
       "      <td>The high impact severity rating reflects Turla's sophisticated capabilities and strategic target...</td>\n",
       "      <td># Turla Cyber Espionage Activities and Infrastructure Targets\\n\\nThis report delves into the sop...</td>\n",
       "    </tr>\n",
       "    <tr>\n",
       "      <th>2</th>\n",
       "      <td>0f7311be-7f8a-4e9e-bf52-a8eba7944943</td>\n",
       "      <td>12</td>\n",
       "      <td>1</td>\n",
       "      <td>Gazer Malware and Turla Network</td>\n",
       "      <td>The community focuses on the Gazer malware, its technical mechanisms such as mutex names and nam...</td>\n",
       "      <td>[{'explanation': 'Gazer malware, associated with the Turla group, employs advanced obfuscation t...</td>\n",
       "      <td>8.5</td>\n",
       "      <td>The high impact severity rating reflects the sophisticated obfuscation and communication strateg...</td>\n",
       "      <td># Gazer Malware and Turla Network\\n\\nThe community focuses on the Gazer malware, its technical m...</td>\n",
       "    </tr>\n",
       "  </tbody>\n",
       "</table>\n",
       "</div>"
      ],
      "text/plain": [
       "                                     id community  level  \\\n",
       "0  1bd35e5c-af30-4e33-b898-a8d58ef37083        10      1   \n",
       "1  4b8eb4db-bf82-4576-920a-ebf15d72fb95        11      1   \n",
       "2  0f7311be-7f8a-4e9e-bf52-a8eba7944943        12      1   \n",
       "\n",
       "                                                         title  \\\n",
       "0                          Carbanak Group and Carbanak Malware   \n",
       "1  Turla Cyber Espionage Activities and Infrastructure Targets   \n",
       "2                              Gazer Malware and Turla Network   \n",
       "\n",
       "                                                                                               summary  \\\n",
       "0  The community focuses on the Carbanak Group, known for its use of Carbanak malware, highlighting...   \n",
       "1  This report delves into the sophisticated cyber espionage activities of the Turla group, focusin...   \n",
       "2  The community focuses on the Gazer malware, its technical mechanisms such as mutex names and nam...   \n",
       "\n",
       "                                                                                              findings  \\\n",
       "0  [{'explanation': 'The Carbanak Group is a prominent entity within the cybercrime community, know...   \n",
       "1  [{'explanation': 'Turla, a group with ties to Russia's FSB, has been active since at least 2004,...   \n",
       "2  [{'explanation': 'Gazer malware, associated with the Turla group, employs advanced obfuscation t...   \n",
       "\n",
       "   rank  \\\n",
       "0   8.5   \n",
       "1   8.5   \n",
       "2   8.5   \n",
       "\n",
       "                                                                                      rank_explanation  \\\n",
       "0  The high impact severity rating reflects the significant threat posed by the Carbanak Group's ac...   \n",
       "1  The high impact severity rating reflects Turla's sophisticated capabilities and strategic target...   \n",
       "2  The high impact severity rating reflects the sophisticated obfuscation and communication strateg...   \n",
       "\n",
       "                                                                                          full_content  \n",
       "0  # Carbanak Group and Carbanak Malware\\n\\nThe community focuses on the Carbanak Group, known for ...  \n",
       "1  # Turla Cyber Espionage Activities and Infrastructure Targets\\n\\nThis report delves into the sop...  \n",
       "2  # Gazer Malware and Turla Network\\n\\nThe community focuses on the Gazer malware, its technical m...  "
      ]
     },
     "metadata": {},
     "output_type": "display_data"
    }
   ],
   "source": [
    "# Create community reports dataframe\n",
    "community_report_df = pd.read_parquet(f'{GRAPHRAG_FOLDER}/create_final_community_reports.parquet',\n",
    "                               columns=[\"id\",\"community\",\"level\",\"title\",\"summary\", \"findings\",\"rank\",\"rank_explanation\",\"full_content\"])\n",
    "community_report_df.head(n = 3)"
   ]
  },
  {
   "cell_type": "code",
   "execution_count": null,
   "metadata": {},
   "outputs": [
    {
     "name": "stdout",
     "output_type": "stream",
     "text": [
      "{'_contains_updates': True, 'labels_added': 73, 'relationships_created': 73, 'nodes_created': 73, 'properties_set': 324}\n",
      "15 rows in 0.2107398509979248 s.\n"
     ]
    },
    {
     "data": {
      "text/plain": [
       "15"
      ]
     },
     "metadata": {},
     "output_type": "display_data"
    }
   ],
   "source": [
    "# Define and upload context\n",
    "community_report_statement = \"\"\"\n",
    "Merge (c:__Community__ {community:value.community})\n",
    "SET c += value {.community, .level, .title, .rank, .rank_explanation, .full_content, .summary}\n",
    "WITH c, value\n",
    "UNWIND range(0, size(value.findings)-1) AS finding_idx\n",
    "WITH c, value, finding_idx, value.findings[finding_idx] as finding\n",
    "MERGE (c)-[:HAS_FINDING]->(f:Finding {id:finding_idx})\n",
    "SET f += finding\n",
    "\"\"\"\n",
    "batched_import(community_report_statement, community_report_df)"
   ]
  }
 ],
 "metadata": {
  "kernelspec": {
   "display_name": "Python 3",
   "language": "python",
   "name": "python3"
  },
  "language_info": {
   "codemirror_mode": {
    "name": "ipython",
    "version": 3
   },
   "file_extension": ".py",
   "mimetype": "text/x-python",
   "name": "python",
   "nbconvert_exporter": "python",
   "pygments_lexer": "ipython3",
   "version": "3.12.4"
  }
 },
 "nbformat": 4,
 "nbformat_minor": 2
}
