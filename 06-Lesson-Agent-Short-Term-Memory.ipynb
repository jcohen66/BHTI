{
 "cells": [
  {
   "cell_type": "markdown",
   "metadata": {},
   "source": [
    "# Module 8: 6 - Anatomy of an AI Agent - Short-Term Memory\n",
    "----------------------------------------------------------------------------\n",
    "In this lesson, we will enhance our AI Agent by implementing a short-term memory feature. This will allow the agent to recall previous interactions within the conversation, providing more contextually relevant responses. We will define a class to manage conversation memory and integrate this with the existing agent structure, which includes the LLM Client using OpenAI models.\n",
    "\n",
    "## Objectives\n",
    "* Understand the concept of short-term memory in an AI agent.\n",
    "* Define and implement a class to manage conversation memory.\n",
    "* Integrate the memory management with the existing AI Agent.\n",
    "* Test the AI Agent's ability to recall previous interactions and respond contextually.\n",
    "\n",
    "## What this session covers:\n",
    "* Installing necessary libraries for OpenAI integration.\n",
    "* Defining the current agent structure including the LLM Client.\n",
    "* Implementing short-term memory management for conversation context.\n",
    "* Integrating the short-term memory with the AI Agent.\n",
    "* Initializing and testing the enhanced AI Agent with example interactions."
   ]
  },
  {
   "cell_type": "markdown",
   "metadata": {},
   "source": [
    "## Install Libraries"
   ]
  },
  {
   "cell_type": "code",
   "execution_count": 2,
   "metadata": {},
   "outputs": [],
   "source": [
    "#! pip install openai"
   ]
  },
  {
   "cell_type": "markdown",
   "metadata": {},
   "source": [
    "## Define Current Agent Structure"
   ]
  },
  {
   "cell_type": "markdown",
   "metadata": {},
   "source": [
    "### LLM Client"
   ]
  },
  {
   "cell_type": "code",
   "execution_count": 1,
   "metadata": {},
   "outputs": [],
   "source": [
    "from typing import Dict, Any, List\n",
    "import openai\n",
    "\n",
    "\n",
    "class OpenAIChatCompletion:\n",
    "    \"\"\"\n",
    "    Interacts with OpenAI's API for chat completions.\n",
    "    \"\"\"\n",
    "\n",
    "    def __init__(self, model: str, api_key: str = None, base_url: str = None):\n",
    "        \"\"\"\n",
    "        Initialize with model, API key, and base URL.\n",
    "        \"\"\"\n",
    "        self.client = openai.OpenAI(api_key=api_key, base_url=base_url)\n",
    "        self.model = model\n",
    "\n",
    "    def generate(self, messages: List[Dict], **kwargs) -> Dict[str, Any]:\n",
    "        \"\"\"\n",
    "        Generate a response from input messages.\n",
    "        \"\"\"\n",
    "        params = {\"messages\": messages, \"model\": self.model, **kwargs}\n",
    "        response = self.client.chat.completions.create(**params)\n",
    "        return response.choices[0].message"
   ]
  },
  {
   "cell_type": "markdown",
   "metadata": {},
   "source": [
    "### Agent Base"
   ]
  },
  {
   "cell_type": "code",
   "execution_count": 2,
   "metadata": {},
   "outputs": [],
   "source": [
    "class Agent:\n",
    "    \"\"\"\n",
    "    Integrates LLM client, tools, and memory.\n",
    "    \"\"\"\n",
    "\n",
    "    def __init__(self, llm_client, tools=None, memory=None):\n",
    "        self.llm_client = llm_client\n",
    "        self.tools = tools\n",
    "        self.memory = memory\n",
    "\n",
    "    def run(self, messages: List[Dict[str, str]]):\n",
    "        \"\"\"\n",
    "        Generates a response from the LLM client.\n",
    "        \"\"\"\n",
    "        # Generate response using the LLM client\n",
    "        response = self.llm_client.generate(messages)\n",
    "        return response"
   ]
  },
  {
   "cell_type": "markdown",
   "metadata": {},
   "source": [
    "## Implementing Short-Term Memory\n",
    "\n",
    "After setting up the LLM client, let's enable the agent to recall previous interactions. Short-term memory handles recent conversations within the LLM's context window, while long-term memory uses databases like vector stores or graphs for retrieving extensive chat history, ensuring relevant context."
   ]
  },
  {
   "cell_type": "code",
   "execution_count": 3,
   "metadata": {},
   "outputs": [],
   "source": [
    "from typing import List, Dict\n",
    "\n",
    "\n",
    "class ChatMessageMemory:\n",
    "    \"\"\"Manages conversation context.\"\"\"\n",
    "\n",
    "    def __init__(self):\n",
    "        self.messages = []\n",
    "\n",
    "    def add_message(self, message: Dict):\n",
    "        \"\"\"Add a message to memory.\"\"\"\n",
    "        self.messages.append(message)\n",
    "\n",
    "    def add_messages(self, messages: List[Dict]):\n",
    "        \"\"\"Add multiple messages to memory.\"\"\"\n",
    "        for message in messages:\n",
    "            self.add_message(message)\n",
    "\n",
    "    def get_messages(self) -> List[Dict]:\n",
    "        \"\"\"Retrieve all messages.\"\"\"\n",
    "        return self.messages.copy()\n",
    "\n",
    "    def reset_memory(self):\n",
    "        \"\"\"Clear all messages.\"\"\"\n",
    "        self.messages = []"
   ]
  },
  {
   "cell_type": "markdown",
   "metadata": {},
   "source": [
    "### Integrating Short-Term Memory with AI Agent"
   ]
  },
  {
   "cell_type": "code",
   "execution_count": 4,
   "metadata": {},
   "outputs": [],
   "source": [
    "class Agent:\n",
    "    \"\"\"Integrates LLM client, tools, and memory.\"\"\"\n",
    "\n",
    "    def __init__(self, llm_client, system_message: Dict[str, str], tools=None):\n",
    "        self.llm_client = llm_client\n",
    "        self.tools = tools\n",
    "        self.memory = ChatMessageMemory()\n",
    "        self.system_message = system_message\n",
    "\n",
    "    def run(self, user_message: Dict[str, str]):\n",
    "        \"\"\"Generate a response using LLM client and store context.\"\"\"\n",
    "        self.memory.add_message(user_message)\n",
    "        chat_history = [self.system_message] + self.memory.get_messages()\n",
    "        response = self.llm_client.generate(chat_history)\n",
    "        self.memory.add_message(response)\n",
    "        return response"
   ]
  },
  {
   "cell_type": "markdown",
   "metadata": {},
   "source": [
    "### Testing Current Agent"
   ]
  },
  {
   "cell_type": "markdown",
   "metadata": {},
   "source": [
    "Initialize Client"
   ]
  },
  {
   "cell_type": "code",
   "execution_count": 7,
   "metadata": {},
   "outputs": [],
   "source": [
    "# API from environment variable\n",
    "import os\n",
    "\n",
    "\n",
    "api_key = os.environ.get(\"OPENAI_API_KEY\")\n",
    "\n",
    "\n",
    "client = OpenAIChatCompletion(\n",
    "\n",
    "    base_url=\"https://api.openai.com/v1\", model=\"gpt-4\", api_key=api_key\n",
    "\n",
    ")"
   ]
  },
  {
   "cell_type": "markdown",
   "metadata": {},
   "source": [
    "Define System messages"
   ]
  },
  {
   "cell_type": "code",
   "execution_count": 8,
   "metadata": {},
   "outputs": [],
   "source": [
    "# Define the system message\n",
    "system_message = {\"role\": \"system\", \"content\": \"You are a security assistant.\"}"
   ]
  },
  {
   "cell_type": "markdown",
   "metadata": {},
   "source": [
    "Initialize New AI Agent"
   ]
  },
  {
   "cell_type": "code",
   "execution_count": 9,
   "metadata": {},
   "outputs": [],
   "source": [
    "# Initialize the Agent with the LLM client and system message\n",
    "agent = Agent(llm_client=client, system_message=system_message)"
   ]
  },
  {
   "cell_type": "markdown",
   "metadata": {},
   "source": [
    "Send a User Message"
   ]
  },
  {
   "cell_type": "code",
   "execution_count": 10,
   "metadata": {},
   "outputs": [],
   "source": [
    "# Define a user message\n",
    "user_message = {\"role\": \"user\", \"content\": \"Hey! This is Roberto!\"}\n",
    "\n",
    "# Generate a response using the agent\n",
    "response = agent.run(user_message)"
   ]
  },
  {
   "cell_type": "code",
   "execution_count": 11,
   "metadata": {},
   "outputs": [
    {
     "data": {
      "text/plain": [
       "{'content': 'Hello Roberto! How can I assist you today?',\n",
       " 'refusal': None,\n",
       " 'role': 'assistant'}"
      ]
     },
     "execution_count": 11,
     "metadata": {},
     "output_type": "execute_result"
    }
   ],
   "source": [
    "response.to_dict()"
   ]
  },
  {
   "cell_type": "markdown",
   "metadata": {},
   "source": [
    "Testing Short-Term Memory"
   ]
  },
  {
   "cell_type": "code",
   "execution_count": 12,
   "metadata": {},
   "outputs": [
    {
     "name": "stdout",
     "output_type": "stream",
     "text": [
      "ChatCompletionMessage(content='Your name is Roberto.', refusal=None, role='assistant', audio=None, function_call=None, tool_calls=None)\n"
     ]
    }
   ],
   "source": [
    "# Add a follow-up message to test memory integration\n",
    "follow_up_message = {\"role\": \"user\", \"content\": \"What was my name?\"}\n",
    "\n",
    "# Run the agent again with the new message\n",
    "response = agent.run(follow_up_message)\n",
    "print(response)"
   ]
  },
  {
   "cell_type": "code",
   "execution_count": 13,
   "metadata": {},
   "outputs": [
    {
     "data": {
      "text/plain": [
       "{'content': 'Your name is Roberto.', 'refusal': None, 'role': 'assistant'}"
      ]
     },
     "execution_count": 13,
     "metadata": {},
     "output_type": "execute_result"
    }
   ],
   "source": [
    "response.to_dict()"
   ]
  },
  {
   "cell_type": "code",
   "execution_count": null,
   "metadata": {},
   "outputs": [],
   "source": []
  }
 ],
 "metadata": {
  "kernelspec": {
   "display_name": "venv",
   "language": "python",
   "name": "python3"
  },
  "language_info": {
   "codemirror_mode": {
    "name": "ipython",
    "version": 3
   },
   "file_extension": ".py",
   "mimetype": "text/x-python",
   "name": "python",
   "nbconvert_exporter": "python",
   "pygments_lexer": "ipython3",
   "version": "3.12.4"
  }
 },
 "nbformat": 4,
 "nbformat_minor": 2
}
