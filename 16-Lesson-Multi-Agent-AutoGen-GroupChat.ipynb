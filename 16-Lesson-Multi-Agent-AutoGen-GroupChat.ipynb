{
 "cells": [
  {
   "cell_type": "markdown",
   "metadata": {},
   "source": [
    "# Module 8: 16 - Multi-Agent Group Chat with AutoGen\n",
    "----------------------------------------------------------------\n",
    "In this lesson, we will explore the use of [AutoGen](https://microsoft.github.io/autogen/docs/tutorial/introduction) to create and manage a multi-agent group chat conversation pattern. AutoGen is an open-source framework that leverages multiple agents to enable complex workflows.\n",
    "\n",
    "In AutoGen, an agent is an entity that can send messages, receive messages and generate a reply using models, tools, human inputs or a mixture of them. This abstraction not only allows agents to model real-world and abstract entities, such as people and algorithms, but it also simplifies implementation of complex workflows as collaboration among agents.\n",
    "\n",
    "AutoGen is extensible and composable: you can extend a simple agent with customizable components and create workflows that can combine these agents and power a more sophisticated agent, resulting in implementations that are modular and easy to maintain.\n",
    "\n",
    "## Objectives\n",
    "* Understand the structure and capabilities of AutoGen for creating multi-agent systems.\n",
    "* Implement and configure agents using AutoGen.\n",
    "* Define tools with hardcoded output for testing and experimentation.\n",
    "* Observe and analyze the collaboration between agents to solve problems or specific challenges.\n",
    "\n",
    "## What this session covers:\n",
    "* Introduction to AutoGen and its role in building multi-agent systems.\n",
    "* Setting up agents and enabling their communication via a message queue.\n",
    "* Defining and testing tools with hardcoded outputs to facilitate agent interaction.\n",
    "* Utilizing the Group Chat Manager to manage tasks and orchestrate agent activities.\n",
    "* Demonstrating how agents collaborate to solve a problem or handle a specific challenge through coordinated task execution.\n",
    "\n",
    "## References\n",
    "* https://microsoft.github.io/autogen/docs/tutorial/tool-use/"
   ]
  },
  {
   "cell_type": "markdown",
   "metadata": {},
   "source": [
    "## Install Libraries"
   ]
  },
  {
   "cell_type": "code",
   "execution_count": null,
   "metadata": {},
   "outputs": [],
   "source": [
    "#!pip3 install pyautogen"
   ]
  },
  {
   "cell_type": "markdown",
   "metadata": {},
   "source": [
    "## Import Initial Modules"
   ]
  },
  {
   "cell_type": "code",
   "execution_count": 1,
   "metadata": {},
   "outputs": [],
   "source": [
    "import logging\n",
    "\n",
    "logging.basicConfig(level=logging.DEBUG)"
   ]
  },
  {
   "cell_type": "markdown",
   "metadata": {},
   "source": [
    "## Define API KEY"
   ]
  },
  {
   "cell_type": "code",
   "execution_count": 2,
   "metadata": {},
   "outputs": [],
   "source": [
    "import os\n",
    "# Set your OpenAI API key as an environment variable\n",
    "os.environ[\"OPENAI_API_KEY\"] = \"\""
   ]
  },
  {
   "cell_type": "markdown",
   "metadata": {},
   "source": [
    "## Define Tools"
   ]
  },
  {
   "cell_type": "markdown",
   "metadata": {},
   "source": [
    "#### SOC Analyst"
   ]
  },
  {
   "cell_type": "code",
   "execution_count": 3,
   "metadata": {},
   "outputs": [],
   "source": [
    "def get_alert(id: str) -> dict:\n",
    "    \"\"\"Returns alert information.\"\"\"\n",
    "    alerts = {\n",
    "        \"f96a7f37-e7f1-410f-85d3-93056e6601a5\": {\n",
    "            \"alert\": \"Suspicious Login Attempt Detected\",\n",
    "            \"severity\": \"High\",\n",
    "            \"indicators\": {\n",
    "                \"failed_login_attempts\": 5,\n",
    "                \"successful_login_time\": \"2024-08-05T10:15:30Z\",\n",
    "                \"unfamiliar_ip\": \"192.0.2.123\",\n",
    "                \"geo_location\": \"Unknown Region\",\n",
    "                \"affected_user\": \"jdoe@example.com\"\n",
    "            }\n",
    "        },\n",
    "        \"a88c5e2a-2a4b-4848-b6e2-8f726a098b4e\": {\n",
    "            \"alert\": \"Malware Detected in Cloud Storage\",\n",
    "            \"severity\": \"Critical\",\n",
    "            \"indicators\": {\n",
    "                \"file_name\": \"invoice2024.exe\",\n",
    "                \"file_hash\": \"d41d8cd98f00b204e9800998ecf8427e\",\n",
    "                \"detection_time\": \"2024-08-05T12:45:00Z\",\n",
    "                \"quarantine_status\": \"Quarantined\",\n",
    "                \"malware_family\": \"RansomwareX\",\n",
    "                \"affected_users\": [\"asmith@example.com\", \"bjones@example.com\"]\n",
    "            }\n",
    "        },\n",
    "        \"d1b65937-0d8d-4b7e-8d2f-9e3412e0e1a4\": {\n",
    "            \"alert\": \"Unusual Data Transfer Activity\",\n",
    "            \"severity\": \"Medium\",\n",
    "            \"indicators\": {\n",
    "                \"data_volume\": \"150GB\",\n",
    "                \"transfer_start_time\": \"2024-08-04T08:00:00Z\",\n",
    "                \"transfer_end_time\": \"2024-08-04T09:30:00Z\",\n",
    "                \"external_ip\": \"203.0.113.45\",\n",
    "                \"source_database\": \"CustomerDB\",\n",
    "                \"initiating_user\": \"jroe@example.com\"\n",
    "            }\n",
    "        }\n",
    "    }\n",
    "    return alerts.get(id, \"Alert ID not found\")\n",
    "\n",
    "def analyze_user_behavior(user: str) -> dict:\n",
    "    \"\"\"Analyzes the behavior of a user account.\"\"\"\n",
    "    # Fake behavior analysis\n",
    "    behavior_analysis = {\n",
    "        \"user\": user,\n",
    "        \"login_history\": [\n",
    "            {\"time\": \"2024-08-01T09:00:00Z\", \"ip\": \"198.51.100.23\"},\n",
    "            {\"time\": \"2024-08-02T11:00:00Z\", \"ip\": \"198.51.100.23\"},\n",
    "            {\"time\": \"2024-08-05T10:15:30Z\", \"ip\": \"192.0.2.123\"}\n",
    "        ],\n",
    "        \"anomalous_activities\": [\"Suspicious Login Attempt\"]\n",
    "    }\n",
    "    return behavior_analysis\n",
    "\n",
    "def analyze_data_transfer(data_volume: str, external_ip: str) -> dict:\n",
    "    \"\"\"Analyzes unusual data transfer activities.\"\"\"\n",
    "    # Fake data transfer analysis result\n",
    "    data_transfer_analysis = {\n",
    "        \"data_volume\": data_volume,\n",
    "        \"external_ip\": external_ip,\n",
    "        \"suspicious\": True,\n",
    "        \"potential_exfiltration\": True\n",
    "    }\n",
    "    return data_transfer_analysis"
   ]
  },
  {
   "cell_type": "markdown",
   "metadata": {},
   "source": [
    "#### Threat Intelligence Analyst"
   ]
  },
  {
   "cell_type": "code",
   "execution_count": 4,
   "metadata": {},
   "outputs": [],
   "source": [
    "def analyze_ip(ip: str) -> dict:\n",
    "    \"\"\"Enriches information and supports analysis of ip address for reputation and geolocation.\"\"\"\n",
    "    # Fake analysis result\n",
    "    analysis_result = {\n",
    "        \"ip\": ip,\n",
    "        \"reputation\": \"suspicious\",\n",
    "        \"geo_location\": \"Unknown Region\",\n",
    "        \"known_associations\": [\"malware distribution\", \"botnet activity\"]\n",
    "    }\n",
    "    return analysis_result"
   ]
  },
  {
   "cell_type": "markdown",
   "metadata": {},
   "source": [
    "#### Reverse Engineer Analyst"
   ]
  },
  {
   "cell_type": "code",
   "execution_count": 5,
   "metadata": {},
   "outputs": [],
   "source": [
    "def analyze_file(file_hash: str) -> dict:\n",
    "    \"\"\"Analyzes a file for malware signatures and behavior.\"\"\"\n",
    "    # Fake file analysis result\n",
    "    file_analysis_result = {\n",
    "        \"file_hash\": file_hash,\n",
    "        \"detected_malware\": \"RansomwareX\",\n",
    "        \"behavior\": [\"encrypts files\", \"contacts C2 server\"]\n",
    "    }\n",
    "    return file_analysis_result"
   ]
  },
  {
   "cell_type": "markdown",
   "metadata": {},
   "source": [
    "## Config LLM"
   ]
  },
  {
   "cell_type": "markdown",
   "metadata": {},
   "source": [
    "#### Aggregate Tools"
   ]
  },
  {
   "cell_type": "code",
   "execution_count": 6,
   "metadata": {},
   "outputs": [],
   "source": [
    "tools_list = [\n",
    "    {\n",
    "        \"name\": \"get_alert\",\n",
    "        \"description\": \"Get security context based on alert id\",\n",
    "        \"parameters\": {\n",
    "            \"type\": \"object\",\n",
    "            \"properties\": {\n",
    "                        \"id\": {\n",
    "                            \"type\": \"string\",\n",
    "                            \"description\": \"Id that uniquely identifies an alert\",\n",
    "                        }\n",
    "                },\n",
    "            \"required\": [\"id\"]}\n",
    "    },\n",
    "    {\n",
    "        \"name\": \"analyze_user_behavior\",\n",
    "        \"description\": \"Analyzes the logging behavior of a user\",\n",
    "        \"parameters\": {\n",
    "            \"type\": \"object\",\n",
    "            \"properties\": {\n",
    "                        \"user\": {\n",
    "                            \"type\": \"string\",\n",
    "                            \"description\": \"Name that uniquely identifies an user\",\n",
    "                        }\n",
    "                },\n",
    "            \"required\": [\"user\"]}\n",
    "    },\n",
    "    {\n",
    "        \"name\": \"analyze_data_transfer\",\n",
    "        \"description\": \"Analyzes the logging behavior of a user\",\n",
    "        \"parameters\": {\n",
    "            \"type\": \"object\",\n",
    "            \"properties\": {\n",
    "                        \"data_volume\": {\n",
    "                            \"type\": \"string\",\n",
    "                            \"description\": \"Volume of data transferred\",\n",
    "                        },\n",
    "                        \"external_ip\": {\n",
    "                            \"type\": \"string\",\n",
    "                            \"description\": \"Target ip data was transferred to\"\n",
    "                        }\n",
    "                },\n",
    "            \"required\": [\"data_volume\",\"external_ip\"]}\n",
    "    },\n",
    "    {\n",
    "        \"name\": \"analyze_ip\",\n",
    "        \"description\": \"Enriches information and supports analysis of ip address for reputation and geolocation.\",\n",
    "        \"parameters\": {\n",
    "            \"type\": \"object\",\n",
    "            \"properties\": {\n",
    "                        \"ip\": {\n",
    "                            \"type\": \"string\",\n",
    "                            \"description\": \"IPv4 logical address\",\n",
    "                        }\n",
    "                },\n",
    "            \"required\": [\"ip\"]}\n",
    "    },\n",
    "    {\n",
    "        \"name\": \"analyze_file\",\n",
    "        \"description\": \"Analyzes a file for malware signatures and behavior\",\n",
    "        \"parameters\": {\n",
    "            \"type\": \"object\",\n",
    "            \"properties\": {\n",
    "                        \"file_hash\": {\n",
    "                            \"type\": \"string\",\n",
    "                            \"description\": \"Hash of the file\",\n",
    "                        }\n",
    "                },\n",
    "            \"required\": [\"file_hash\"]}\n",
    "    }\n",
    "]"
   ]
  },
  {
   "cell_type": "markdown",
   "metadata": {},
   "source": [
    "#### LLM Config"
   ]
  },
  {
   "cell_type": "code",
   "execution_count": 7,
   "metadata": {},
   "outputs": [],
   "source": [
    "termination_msg = lambda x: isinstance(x, dict) and \"TERMINATE\" == str(x.get(\"content\", \"\"))[-9:].upper()\n",
    "\n",
    "llm_config = { \n",
    "    \"functions\": tools_list,\n",
    "    \"model\": \"gpt-4-turbo\"\n",
    "}\n"
   ]
  },
  {
   "cell_type": "markdown",
   "metadata": {},
   "source": [
    "## Define Agents"
   ]
  },
  {
   "cell_type": "markdown",
   "metadata": {},
   "source": [
    "#### SOC Analyst Agent"
   ]
  },
  {
   "cell_type": "code",
   "execution_count": 8,
   "metadata": {},
   "outputs": [
    {
     "name": "stderr",
     "output_type": "stream",
     "text": [
      "DEBUG:httpx:load_ssl_context verify=True cert=None trust_env=True http2=False\n",
      "DEBUG:httpx:load_verify_locations cafile='/Library/Frameworks/Python.framework/Versions/3.12/lib/python3.12/site-packages/certifi/cacert.pem'\n"
     ]
    },
    {
     "name": "stdout",
     "output_type": "stream",
     "text": [
      "[autogen.oai.client: 08-06 06:58:02] {164} WARNING - The API key specified is not a valid OpenAI format; it won't work with the OpenAI-hosted model.\n"
     ]
    },
    {
     "name": "stderr",
     "output_type": "stream",
     "text": [
      "WARNING:autogen.oai.client:The API key specified is not a valid OpenAI format; it won't work with the OpenAI-hosted model.\n"
     ]
    }
   ],
   "source": [
    "import autogen\n",
    "\n",
    "soc_analyst_agent = autogen.AssistantAgent(\n",
    "    name=\"Soc_Analyst\",\n",
    "    is_termination_msg=termination_msg,\n",
    "    system_message=\"\"\"\n",
    "    You are a security analyst that performs alerts investigations.\n",
    "    \"\"\",\n",
    "    llm_config=llm_config,\n",
    ")\n",
    "\n",
    "soc_analyst_agent.register_function(\n",
    "    function_map={\n",
    "        \"get_alert\": get_alert,\n",
    "        \"analyze_user_behavior\": analyze_user_behavior,\n",
    "        \"analyze_data_transfer\": analyze_data_transfer,\n",
    "    }\n",
    ")"
   ]
  },
  {
   "cell_type": "markdown",
   "metadata": {},
   "source": [
    "#### Define TI Agent"
   ]
  },
  {
   "cell_type": "code",
   "execution_count": 9,
   "metadata": {},
   "outputs": [
    {
     "name": "stderr",
     "output_type": "stream",
     "text": [
      "DEBUG:httpx:load_ssl_context verify=True cert=None trust_env=True http2=False\n",
      "DEBUG:httpx:load_verify_locations cafile='/Library/Frameworks/Python.framework/Versions/3.12/lib/python3.12/site-packages/certifi/cacert.pem'\n"
     ]
    },
    {
     "name": "stdout",
     "output_type": "stream",
     "text": [
      "[autogen.oai.client: 08-06 06:58:09] {164} WARNING - The API key specified is not a valid OpenAI format; it won't work with the OpenAI-hosted model.\n"
     ]
    },
    {
     "name": "stderr",
     "output_type": "stream",
     "text": [
      "WARNING:autogen.oai.client:The API key specified is not a valid OpenAI format; it won't work with the OpenAI-hosted model.\n"
     ]
    }
   ],
   "source": [
    "import autogen\n",
    "\n",
    "ti_analyst_agent = autogen.AssistantAgent(\n",
    "    name=\"Ti_Analyst\",\n",
    "    is_termination_msg=termination_msg,\n",
    "    system_message=\"\"\"\n",
    "    You are an intelligence analyst that enrichs context of alerts investigations.\n",
    "    \"\"\",\n",
    "    llm_config=llm_config,\n",
    ")\n",
    "\n",
    "ti_analyst_agent.register_function(\n",
    "    function_map={\n",
    "        \"analyze_ip\": analyze_ip\n",
    "    }\n",
    ")"
   ]
  },
  {
   "cell_type": "markdown",
   "metadata": {},
   "source": [
    "#### Define Reverse Engineer Agent"
   ]
  },
  {
   "cell_type": "code",
   "execution_count": 10,
   "metadata": {},
   "outputs": [
    {
     "name": "stderr",
     "output_type": "stream",
     "text": [
      "DEBUG:httpx:load_ssl_context verify=True cert=None trust_env=True http2=False\n",
      "DEBUG:httpx:load_verify_locations cafile='/Library/Frameworks/Python.framework/Versions/3.12/lib/python3.12/site-packages/certifi/cacert.pem'\n"
     ]
    },
    {
     "name": "stdout",
     "output_type": "stream",
     "text": [
      "[autogen.oai.client: 08-06 06:58:12] {164} WARNING - The API key specified is not a valid OpenAI format; it won't work with the OpenAI-hosted model.\n"
     ]
    },
    {
     "name": "stderr",
     "output_type": "stream",
     "text": [
      "WARNING:autogen.oai.client:The API key specified is not a valid OpenAI format; it won't work with the OpenAI-hosted model.\n"
     ]
    }
   ],
   "source": [
    "import autogen\n",
    "\n",
    "re_analyst_agent = autogen.AssistantAgent(\n",
    "    name=\"Re_Analyst\",\n",
    "    is_termination_msg=termination_msg,\n",
    "    system_message=\"\"\"\n",
    "    You are an reverse engineer analyst that analyzes the content of a file.\n",
    "    \"\"\",\n",
    "    llm_config=llm_config,\n",
    ")\n",
    "\n",
    "re_analyst_agent.register_function(\n",
    "    function_map={\n",
    "        \"analyze_file\": analyze_file\n",
    "    }\n",
    ")"
   ]
  },
  {
   "cell_type": "markdown",
   "metadata": {},
   "source": [
    "#### Define User-Proxy Agent"
   ]
  },
  {
   "cell_type": "code",
   "execution_count": 11,
   "metadata": {},
   "outputs": [],
   "source": [
    "import autogen\n",
    "\n",
    "threat_research_agent = autogen.UserProxyAgent(\n",
    "    name=\"threat_research_agent\",\n",
    "    is_termination_msg=termination_msg,\n",
    "    human_input_mode=\"NEVER\",\n",
    "    system_message=\"The system who ask questions and give tasks.\",\n",
    "    code_execution_config=False, \n",
    "    default_auto_reply=\"Reply `TERMINATE` if the task is done.\",\n",
    ")"
   ]
  },
  {
   "cell_type": "markdown",
   "metadata": {},
   "source": [
    "## Define Group Chat"
   ]
  },
  {
   "cell_type": "code",
   "execution_count": 12,
   "metadata": {},
   "outputs": [],
   "source": [
    "groupchat = autogen.GroupChat(agents=[threat_research_agent, soc_analyst_agent, ti_analyst_agent, re_analyst_agent], messages=[], max_round=5, speaker_selection_method=\"auto\", allow_repeat_speaker=False)\n",
    "manager = autogen.GroupChatManager(groupchat=groupchat)"
   ]
  },
  {
   "cell_type": "markdown",
   "metadata": {},
   "source": [
    "## Start Multi-Agent Group Chat"
   ]
  },
  {
   "cell_type": "code",
   "execution_count": 13,
   "metadata": {},
   "outputs": [
    {
     "name": "stdout",
     "output_type": "stream",
     "text": [
      "\u001b[33mthreat_research_agent\u001b[0m (to chat_manager):\n",
      "\n",
      "Investigate alert f96a7f37-e7f1-410f-85d3-93056e6601a5 and provide a summary about it with all details\n",
      "\n",
      "--------------------------------------------------------------------------------\n",
      "\u001b[32m\n",
      "Next speaker: Soc_Analyst\n",
      "\u001b[0m\n"
     ]
    },
    {
     "name": "stderr",
     "output_type": "stream",
     "text": [
      "DEBUG:openai._base_client:Request options: {'method': 'post', 'url': '/chat/completions', 'files': None, 'json_data': {'messages': [{'content': '\\n    You are a security analyst that performs alerts investigations.\\n    ', 'role': 'system'}, {'content': 'Investigate alert f96a7f37-e7f1-410f-85d3-93056e6601a5 and provide a summary about it with all details', 'name': 'threat_research_agent', 'role': 'user'}], 'model': 'gpt-4-turbo', 'functions': [{'name': 'get_alert', 'description': 'Get security context based on alert id', 'parameters': {'type': 'object', 'properties': {'id': {'type': 'string', 'description': 'Id that uniquely identifies an alert'}}, 'required': ['id']}}, {'name': 'analyze_user_behavior', 'description': 'Analyzes the logging behavior of a user', 'parameters': {'type': 'object', 'properties': {'user': {'type': 'string', 'description': 'Name that uniquely identifies an user'}}, 'required': ['user']}}, {'name': 'analyze_data_transfer', 'description': 'Analyzes the logging behavior of a user', 'parameters': {'type': 'object', 'properties': {'data_volume': {'type': 'string', 'description': 'Volume of data transferred'}, 'external_ip': {'type': 'string', 'description': 'Target ip data was transferred to'}}, 'required': ['data_volume', 'external_ip']}}, {'name': 'analyze_ip', 'description': 'Enriches information and supports analysis of ip address for reputation and geolocation.', 'parameters': {'type': 'object', 'properties': {'ip': {'type': 'string', 'description': 'IPv4 logical address'}}, 'required': ['ip']}}, {'name': 'analyze_file', 'description': 'Analyzes a file for malware signatures and behavior', 'parameters': {'type': 'object', 'properties': {'file_hash': {'type': 'string', 'description': 'Hash of the file'}}, 'required': ['file_hash']}}], 'stream': False}}\n",
      "DEBUG:openai._base_client:Sending HTTP Request: POST https://api.openai.com/v1/chat/completions\n",
      "DEBUG:httpcore.connection:connect_tcp.started host='api.openai.com' port=443 local_address=None timeout=5.0 socket_options=None\n",
      "DEBUG:httpcore.connection:connect_tcp.complete return_value=<httpcore._backends.sync.SyncStream object at 0x29c908110>\n",
      "DEBUG:httpcore.connection:start_tls.started ssl_context=<ssl.SSLContext object at 0x29e84e3d0> server_hostname='api.openai.com' timeout=5.0\n",
      "DEBUG:httpcore.connection:start_tls.complete return_value=<httpcore._backends.sync.SyncStream object at 0x29e88a4b0>\n",
      "DEBUG:httpcore.http11:send_request_headers.started request=<Request [b'POST']>\n",
      "DEBUG:httpcore.http11:send_request_headers.complete\n",
      "DEBUG:httpcore.http11:send_request_body.started request=<Request [b'POST']>\n",
      "DEBUG:httpcore.http11:send_request_body.complete\n",
      "DEBUG:httpcore.http11:receive_response_headers.started request=<Request [b'POST']>\n",
      "DEBUG:httpcore.http11:receive_response_headers.complete return_value=(b'HTTP/1.1', 200, b'OK', [(b'Date', b'Tue, 06 Aug 2024 13:58:25 GMT'), (b'Content-Type', b'application/json'), (b'Transfer-Encoding', b'chunked'), (b'Connection', b'keep-alive'), (b'openai-organization', b'user-fgvu2vtyft5ouznvq59jwsvt'), (b'openai-processing-ms', b'2214'), (b'openai-version', b'2020-10-01'), (b'strict-transport-security', b'max-age=15552000; includeSubDomains; preload'), (b'x-ratelimit-limit-requests', b'5000'), (b'x-ratelimit-limit-tokens', b'600000'), (b'x-ratelimit-remaining-requests', b'4999'), (b'x-ratelimit-remaining-tokens', b'599938'), (b'x-ratelimit-reset-requests', b'12ms'), (b'x-ratelimit-reset-tokens', b'6ms'), (b'x-request-id', b'req_99cb29b46f4a64e1d88517c7ea769367'), (b'CF-Cache-Status', b'DYNAMIC'), (b'Set-Cookie', b'__cf_bm=RNmEQ9.6MQi3nz4CfW1SDpgjj25_0OTzvc94V1TdwOo-1722952705-1.0.1.1-SSITP23dz8rgX5ZKJKmHGVoIgHVFkWQ4qA1CCZZNNI.Kn96y7nm_8j5n50BTLeUw7bfSgv0Eb6MGqTz_5Y5qTA; path=/; expires=Tue, 06-Aug-24 14:28:25 GMT; domain=.api.openai.com; HttpOnly; Secure; SameSite=None'), (b'X-Content-Type-Options', b'nosniff'), (b'Set-Cookie', b'_cfuvid=WzZReqbw51RK3BTE0Kc1MBcR5vfEq6e14wGQs30Zk20-1722952705597-0.0.1.1-604800000; path=/; domain=.api.openai.com; HttpOnly; Secure; SameSite=None'), (b'Server', b'cloudflare'), (b'CF-RAY', b'8aef8a9b7f9609f7-LAS'), (b'Content-Encoding', b'gzip'), (b'alt-svc', b'h3=\":443\"; ma=86400')])\n",
      "INFO:httpx:HTTP Request: POST https://api.openai.com/v1/chat/completions \"HTTP/1.1 200 OK\"\n",
      "DEBUG:httpcore.http11:receive_response_body.started request=<Request [b'POST']>\n",
      "DEBUG:httpcore.http11:receive_response_body.complete\n",
      "DEBUG:httpcore.http11:response_closed.started\n",
      "DEBUG:httpcore.http11:response_closed.complete\n",
      "DEBUG:openai._base_client:HTTP Response: POST https://api.openai.com/v1/chat/completions \"200 OK\" Headers([('date', 'Tue, 06 Aug 2024 13:58:25 GMT'), ('content-type', 'application/json'), ('transfer-encoding', 'chunked'), ('connection', 'keep-alive'), ('openai-organization', 'user-fgvu2vtyft5ouznvq59jwsvt'), ('openai-processing-ms', '2214'), ('openai-version', '2020-10-01'), ('strict-transport-security', 'max-age=15552000; includeSubDomains; preload'), ('x-ratelimit-limit-requests', '5000'), ('x-ratelimit-limit-tokens', '600000'), ('x-ratelimit-remaining-requests', '4999'), ('x-ratelimit-remaining-tokens', '599938'), ('x-ratelimit-reset-requests', '12ms'), ('x-ratelimit-reset-tokens', '6ms'), ('x-request-id', 'req_99cb29b46f4a64e1d88517c7ea769367'), ('cf-cache-status', 'DYNAMIC'), ('set-cookie', '__cf_bm=RNmEQ9.6MQi3nz4CfW1SDpgjj25_0OTzvc94V1TdwOo-1722952705-1.0.1.1-SSITP23dz8rgX5ZKJKmHGVoIgHVFkWQ4qA1CCZZNNI.Kn96y7nm_8j5n50BTLeUw7bfSgv0Eb6MGqTz_5Y5qTA; path=/; expires=Tue, 06-Aug-24 14:28:25 GMT; domain=.api.openai.com; HttpOnly; Secure; SameSite=None'), ('x-content-type-options', 'nosniff'), ('set-cookie', '_cfuvid=WzZReqbw51RK3BTE0Kc1MBcR5vfEq6e14wGQs30Zk20-1722952705597-0.0.1.1-604800000; path=/; domain=.api.openai.com; HttpOnly; Secure; SameSite=None'), ('server', 'cloudflare'), ('cf-ray', '8aef8a9b7f9609f7-LAS'), ('content-encoding', 'gzip'), ('alt-svc', 'h3=\":443\"; ma=86400')])\n",
      "DEBUG:openai._base_client:request_id: req_99cb29b46f4a64e1d88517c7ea769367\n"
     ]
    },
    {
     "name": "stdout",
     "output_type": "stream",
     "text": [
      "\u001b[33mSoc_Analyst\u001b[0m (to chat_manager):\n",
      "\n",
      "\u001b[32m***** Suggested function call: get_alert *****\u001b[0m\n",
      "Arguments: \n",
      "{\"id\":\"f96a7f37-e7f1-410f-85d3-93056e6601a5\"}\n",
      "\u001b[32m**********************************************\u001b[0m\n",
      "\n",
      "--------------------------------------------------------------------------------\n",
      "\u001b[32m\n",
      "Next speaker: Soc_Analyst\n",
      "\u001b[0m\n",
      "\u001b[35m\n",
      ">>>>>>>> EXECUTING FUNCTION get_alert...\u001b[0m\n",
      "\u001b[33mSoc_Analyst\u001b[0m (to chat_manager):\n",
      "\n",
      "\u001b[32m***** Response from calling function (get_alert) *****\u001b[0m\n",
      "{'alert': 'Suspicious Login Attempt Detected', 'severity': 'High', 'indicators': {'failed_login_attempts': 5, 'successful_login_time': '2024-08-05T10:15:30Z', 'unfamiliar_ip': '192.0.2.123', 'geo_location': 'Unknown Region', 'affected_user': 'jdoe@example.com'}}\n",
      "\u001b[32m******************************************************\u001b[0m\n",
      "\n",
      "--------------------------------------------------------------------------------\n",
      "\u001b[32m\n",
      "Next speaker: Ti_Analyst\n",
      "\u001b[0m\n"
     ]
    },
    {
     "name": "stderr",
     "output_type": "stream",
     "text": [
      "DEBUG:openai._base_client:Request options: {'method': 'post', 'url': '/chat/completions', 'files': None, 'json_data': {'messages': [{'content': '\\n    You are an intelligence analyst that enrichs context of alerts investigations.\\n    ', 'role': 'system'}, {'content': 'Investigate alert f96a7f37-e7f1-410f-85d3-93056e6601a5 and provide a summary about it with all details', 'name': 'threat_research_agent', 'role': 'user'}, {'content': '', 'function_call': {'arguments': '{\"id\":\"f96a7f37-e7f1-410f-85d3-93056e6601a5\"}', 'name': 'get_alert'}, 'name': 'Soc_Analyst', 'role': 'assistant'}, {'content': \"{'alert': 'Suspicious Login Attempt Detected', 'severity': 'High', 'indicators': {'failed_login_attempts': 5, 'successful_login_time': '2024-08-05T10:15:30Z', 'unfamiliar_ip': '192.0.2.123', 'geo_location': 'Unknown Region', 'affected_user': 'jdoe@example.com'}}\", 'name': 'get_alert', 'role': 'function'}], 'model': 'gpt-4-turbo', 'functions': [{'name': 'get_alert', 'description': 'Get security context based on alert id', 'parameters': {'type': 'object', 'properties': {'id': {'type': 'string', 'description': 'Id that uniquely identifies an alert'}}, 'required': ['id']}}, {'name': 'analyze_user_behavior', 'description': 'Analyzes the logging behavior of a user', 'parameters': {'type': 'object', 'properties': {'user': {'type': 'string', 'description': 'Name that uniquely identifies an user'}}, 'required': ['user']}}, {'name': 'analyze_data_transfer', 'description': 'Analyzes the logging behavior of a user', 'parameters': {'type': 'object', 'properties': {'data_volume': {'type': 'string', 'description': 'Volume of data transferred'}, 'external_ip': {'type': 'string', 'description': 'Target ip data was transferred to'}}, 'required': ['data_volume', 'external_ip']}}, {'name': 'analyze_ip', 'description': 'Enriches information and supports analysis of ip address for reputation and geolocation.', 'parameters': {'type': 'object', 'properties': {'ip': {'type': 'string', 'description': 'IPv4 logical address'}}, 'required': ['ip']}}, {'name': 'analyze_file', 'description': 'Analyzes a file for malware signatures and behavior', 'parameters': {'type': 'object', 'properties': {'file_hash': {'type': 'string', 'description': 'Hash of the file'}}, 'required': ['file_hash']}}], 'stream': False}}\n",
      "DEBUG:openai._base_client:Sending HTTP Request: POST https://api.openai.com/v1/chat/completions\n",
      "DEBUG:httpcore.connection:connect_tcp.started host='api.openai.com' port=443 local_address=None timeout=5.0 socket_options=None\n",
      "DEBUG:httpcore.connection:connect_tcp.complete return_value=<httpcore._backends.sync.SyncStream object at 0x29ea2ffe0>\n",
      "DEBUG:httpcore.connection:start_tls.started ssl_context=<ssl.SSLContext object at 0x29e890bd0> server_hostname='api.openai.com' timeout=5.0\n",
      "DEBUG:httpcore.connection:start_tls.complete return_value=<httpcore._backends.sync.SyncStream object at 0x29ea2ff20>\n",
      "DEBUG:httpcore.http11:send_request_headers.started request=<Request [b'POST']>\n",
      "DEBUG:httpcore.http11:send_request_headers.complete\n",
      "DEBUG:httpcore.http11:send_request_body.started request=<Request [b'POST']>\n",
      "DEBUG:httpcore.http11:send_request_body.complete\n",
      "DEBUG:httpcore.http11:receive_response_headers.started request=<Request [b'POST']>\n",
      "DEBUG:httpcore.http11:receive_response_headers.complete return_value=(b'HTTP/1.1', 200, b'OK', [(b'Date', b'Tue, 06 Aug 2024 13:58:35 GMT'), (b'Content-Type', b'application/json'), (b'Transfer-Encoding', b'chunked'), (b'Connection', b'keep-alive'), (b'openai-organization', b'user-fgvu2vtyft5ouznvq59jwsvt'), (b'openai-processing-ms', b'9736'), (b'openai-version', b'2020-10-01'), (b'strict-transport-security', b'max-age=15552000; includeSubDomains; preload'), (b'x-ratelimit-limit-requests', b'5000'), (b'x-ratelimit-limit-tokens', b'600000'), (b'x-ratelimit-remaining-requests', b'4999'), (b'x-ratelimit-remaining-tokens', b'599866'), (b'x-ratelimit-reset-requests', b'12ms'), (b'x-ratelimit-reset-tokens', b'13ms'), (b'x-request-id', b'req_ab7d73f2ef36fcb093b22f2efde9bc9a'), (b'CF-Cache-Status', b'DYNAMIC'), (b'Set-Cookie', b'__cf_bm=VCPoIaZObAfbVZfnmeBwD13yg1R5qmn8Qt8ke1hqRvA-1722952715-1.0.1.1-ZaIMTU77Pyo8dMd.tvsQ_AyE3hJlwOSjLu2qxfsUpQjjM9I8r_UiVaOmVgIluj6AE9.yBJxbqf32XtlMVicBFQ; path=/; expires=Tue, 06-Aug-24 14:28:35 GMT; domain=.api.openai.com; HttpOnly; Secure; SameSite=None'), (b'X-Content-Type-Options', b'nosniff'), (b'Set-Cookie', b'_cfuvid=RS1qman8BxoAKgfZ8EZK6yg4KBGPfxrrJgP5PZOYaWM-1722952715557-0.0.1.1-604800000; path=/; domain=.api.openai.com; HttpOnly; Secure; SameSite=None'), (b'Server', b'cloudflare'), (b'CF-RAY', b'8aef8aaabfe1a982-LAS'), (b'Content-Encoding', b'gzip'), (b'alt-svc', b'h3=\":443\"; ma=86400')])\n",
      "INFO:httpx:HTTP Request: POST https://api.openai.com/v1/chat/completions \"HTTP/1.1 200 OK\"\n",
      "DEBUG:httpcore.http11:receive_response_body.started request=<Request [b'POST']>\n",
      "DEBUG:httpcore.http11:receive_response_body.complete\n",
      "DEBUG:httpcore.http11:response_closed.started\n",
      "DEBUG:httpcore.http11:response_closed.complete\n",
      "DEBUG:openai._base_client:HTTP Response: POST https://api.openai.com/v1/chat/completions \"200 OK\" Headers([('date', 'Tue, 06 Aug 2024 13:58:35 GMT'), ('content-type', 'application/json'), ('transfer-encoding', 'chunked'), ('connection', 'keep-alive'), ('openai-organization', 'user-fgvu2vtyft5ouznvq59jwsvt'), ('openai-processing-ms', '9736'), ('openai-version', '2020-10-01'), ('strict-transport-security', 'max-age=15552000; includeSubDomains; preload'), ('x-ratelimit-limit-requests', '5000'), ('x-ratelimit-limit-tokens', '600000'), ('x-ratelimit-remaining-requests', '4999'), ('x-ratelimit-remaining-tokens', '599866'), ('x-ratelimit-reset-requests', '12ms'), ('x-ratelimit-reset-tokens', '13ms'), ('x-request-id', 'req_ab7d73f2ef36fcb093b22f2efde9bc9a'), ('cf-cache-status', 'DYNAMIC'), ('set-cookie', '__cf_bm=VCPoIaZObAfbVZfnmeBwD13yg1R5qmn8Qt8ke1hqRvA-1722952715-1.0.1.1-ZaIMTU77Pyo8dMd.tvsQ_AyE3hJlwOSjLu2qxfsUpQjjM9I8r_UiVaOmVgIluj6AE9.yBJxbqf32XtlMVicBFQ; path=/; expires=Tue, 06-Aug-24 14:28:35 GMT; domain=.api.openai.com; HttpOnly; Secure; SameSite=None'), ('x-content-type-options', 'nosniff'), ('set-cookie', '_cfuvid=RS1qman8BxoAKgfZ8EZK6yg4KBGPfxrrJgP5PZOYaWM-1722952715557-0.0.1.1-604800000; path=/; domain=.api.openai.com; HttpOnly; Secure; SameSite=None'), ('server', 'cloudflare'), ('cf-ray', '8aef8aaabfe1a982-LAS'), ('content-encoding', 'gzip'), ('alt-svc', 'h3=\":443\"; ma=86400')])\n",
      "DEBUG:openai._base_client:request_id: req_ab7d73f2ef36fcb093b22f2efde9bc9a\n"
     ]
    },
    {
     "name": "stdout",
     "output_type": "stream",
     "text": [
      "\u001b[33mTi_Analyst\u001b[0m (to chat_manager):\n",
      "\n",
      "### Alert Summary\n",
      "\n",
      "**Alert ID:** f96a7f37-e7f1-410f-85d3-93056e6601a5  \n",
      "**Description:** Suspicious Login Attempt Detected  \n",
      "**Severity:** High\n",
      "\n",
      "### Indicators:\n",
      "- **Failed Login Attempts:** 5\n",
      "- **Successful Login Time:** 2024-08-05 10:15:30 (UTC)\n",
      "- **IP Address:** 192.0.2.123 (Geo Location: Unknown Region)\n",
      "- **Affected User:** jdoe@example.com \n",
      "\n",
      "### Initial Analysis:\n",
      "The alert indicates a high severity situation involving suspicious login attempts. There were 5 failed login attempts before a successful access was granted. The successful login was from an IP address not previously associated with the user, pointing to a potential security breach.\n",
      "\n",
      "To provide additional context and a deeper analysis, I will proceed to investigate the unfamiliar IP and check the recent behavior of the affected user.\n",
      "\u001b[32m***** Suggested function call: analyze_ip *****\u001b[0m\n",
      "Arguments: \n",
      "{\"ip\":\"192.0.2.123\"}\n",
      "\u001b[32m***********************************************\u001b[0m\n",
      "\n",
      "--------------------------------------------------------------------------------\n",
      "\u001b[32m\n",
      "Next speaker: Ti_Analyst\n",
      "\u001b[0m\n",
      "\u001b[35m\n",
      ">>>>>>>> EXECUTING FUNCTION analyze_ip...\u001b[0m\n",
      "\u001b[33mTi_Analyst\u001b[0m (to chat_manager):\n",
      "\n",
      "\u001b[32m***** Response from calling function (analyze_ip) *****\u001b[0m\n",
      "{'ip': '192.0.2.123', 'reputation': 'suspicious', 'geo_location': 'Unknown Region', 'known_associations': ['malware distribution', 'botnet activity']}\n",
      "\u001b[32m*******************************************************\u001b[0m\n",
      "\n",
      "--------------------------------------------------------------------------------\n"
     ]
    },
    {
     "data": {
      "text/plain": [
       "ChatResult(chat_id=None, chat_history=[{'content': 'Investigate alert f96a7f37-e7f1-410f-85d3-93056e6601a5 and provide a summary about it with all details', 'role': 'assistant'}, {'content': '', 'function_call': {'arguments': '{\"id\":\"f96a7f37-e7f1-410f-85d3-93056e6601a5\"}', 'name': 'get_alert'}, 'name': 'Soc_Analyst', 'role': 'assistant'}, {'content': \"{'alert': 'Suspicious Login Attempt Detected', 'severity': 'High', 'indicators': {'failed_login_attempts': 5, 'successful_login_time': '2024-08-05T10:15:30Z', 'unfamiliar_ip': '192.0.2.123', 'geo_location': 'Unknown Region', 'affected_user': 'jdoe@example.com'}}\", 'name': 'get_alert', 'role': 'function'}, {'content': '### Alert Summary\\n\\n**Alert ID:** f96a7f37-e7f1-410f-85d3-93056e6601a5  \\n**Description:** Suspicious Login Attempt Detected  \\n**Severity:** High\\n\\n### Indicators:\\n- **Failed Login Attempts:** 5\\n- **Successful Login Time:** 2024-08-05 10:15:30 (UTC)\\n- **IP Address:** 192.0.2.123 (Geo Location: Unknown Region)\\n- **Affected User:** jdoe@example.com \\n\\n### Initial Analysis:\\nThe alert indicates a high severity situation involving suspicious login attempts. There were 5 failed login attempts before a successful access was granted. The successful login was from an IP address not previously associated with the user, pointing to a potential security breach.\\n\\nTo provide additional context and a deeper analysis, I will proceed to investigate the unfamiliar IP and check the recent behavior of the affected user.', 'function_call': {'arguments': '{\"ip\":\"192.0.2.123\"}', 'name': 'analyze_ip'}, 'name': 'Ti_Analyst', 'role': 'assistant'}, {'content': \"{'ip': '192.0.2.123', 'reputation': 'suspicious', 'geo_location': 'Unknown Region', 'known_associations': ['malware distribution', 'botnet activity']}\", 'name': 'analyze_ip', 'role': 'function'}], summary=\"{'ip': '192.0.2.123', 'reputation': 'suspicious', 'geo_location': 'Unknown Region', 'known_associations': ['malware distribution', 'botnet activity']}\", cost={'usage_including_cached_inference': {'total_cost': 0}, 'usage_excluding_cached_inference': {'total_cost': 0}}, human_input=[])"
      ]
     },
     "execution_count": 13,
     "metadata": {},
     "output_type": "execute_result"
    }
   ],
   "source": [
    "threat_research_agent.initiate_chat(\n",
    "    manager,\n",
    "    message= \"Investigate alert f96a7f37-e7f1-410f-85d3-93056e6601a5 and provide a summary about it with all details\"\n",
    ")"
   ]
  }
 ],
 "metadata": {
  "kernelspec": {
   "display_name": "Python 3 (ipykernel)",
   "language": "python",
   "name": "python3"
  },
  "language_info": {
   "codemirror_mode": {
    "name": "ipython",
    "version": 3
   },
   "file_extension": ".py",
   "mimetype": "text/x-python",
   "name": "python",
   "nbconvert_exporter": "python",
   "pygments_lexer": "ipython3",
   "version": "3.12.4"
  }
 },
 "nbformat": 4,
 "nbformat_minor": 2
}
